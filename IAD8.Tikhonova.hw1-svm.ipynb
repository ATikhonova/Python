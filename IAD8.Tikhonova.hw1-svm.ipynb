{
 "cells": [
  {
   "cell_type": "markdown",
   "metadata": {},
   "source": [
    "# Домашняя работа №1"
   ]
  },
  {
   "cell_type": "markdown",
   "metadata": {},
   "source": [
    "**Срок сдачи:** 30 сентября 2016, 23:59 <br\\>\n",
    "\n",
    "При отправлении ДЗ на почту указывайте фамилию в названии файла, а тему письма оформляйте в следующем формате: <br\\>\n",
    "** [ИАД] *{Фамилия}* *{Имя}* ДЗ*{Номер}* **<br\\>\n",
    "\n",
    "\n",
    "Сопровождайте ваш код изображеними, комментариями и выводами. <br\\>\n",
    "Иммейте ввиду, что на некоторые задачи нет единственного верного и полного ответа. Чем больше информации вы сможете извлечь, аргументированных выводов сформулировать, тем лучше.\n",
    "\n",
    "Используйте данный Ipython Notebook при оформлении домашнего задания."
   ]
  },
  {
   "cell_type": "markdown",
   "metadata": {
    "toc": "true"
   },
   "source": [
    "# Table of Contents\n",
    " <p><div class=\"lev1 toc-item\"><a data-toc-modified-id=\"Домашняя-работа-№1-1\" href=\"#Домашняя-работа-№1\"><span class=\"toc-item-num\">1&nbsp;&nbsp;</span>Домашняя работа №1</a></div><div class=\"lev1 toc-item\"><a data-toc-modified-id=\"Регрессия-с-SVM-(3-балла)-2\" href=\"#Регрессия-с-SVM-(3-балла)\"><span class=\"toc-item-num\">2&nbsp;&nbsp;</span>Регрессия с SVM (3 балла)</a></div><div class=\"lev2 toc-item\"><a data-toc-modified-id=\"Визуализация-данных-(1-балл)-2.1\" href=\"#Визуализация-данных-(1-балл)\"><span class=\"toc-item-num\">2.1&nbsp;&nbsp;</span>Визуализация данных (1 балл)</a></div><div class=\"lev2 toc-item\"><a data-toc-modified-id=\"Обучение-моделей-(2-балла)-2.2\" href=\"#Обучение-моделей-(2-балла)\"><span class=\"toc-item-num\">2.2&nbsp;&nbsp;</span>Обучение моделей (2 балла)</a></div><div class=\"lev1 toc-item\"><a data-toc-modified-id=\"Определение-языка-слова-(7-баллов)-3\" href=\"#Определение-языка-слова-(7-баллов)\"><span class=\"toc-item-num\">3&nbsp;&nbsp;</span>Определение языка слова (7 баллов)</a></div><div class=\"lev2 toc-item\"><a data-toc-modified-id=\"Загрузка-(1-балл)-3.1\" href=\"#Загрузка-(1-балл)\"><span class=\"toc-item-num\">3.1&nbsp;&nbsp;</span>Загрузка (1 балл)</a></div><div class=\"lev2 toc-item\"><a data-toc-modified-id=\"Подготовка-данных-(2-балла)-3.2\" href=\"#Подготовка-данных-(2-балла)\"><span class=\"toc-item-num\">3.2&nbsp;&nbsp;</span>Подготовка данных (2 балла)</a></div><div class=\"lev2 toc-item\"><a data-toc-modified-id=\"Расчет-ядра-(3-балла)-3.3\" href=\"#Расчет-ядра-(3-балла)\"><span class=\"toc-item-num\">3.3&nbsp;&nbsp;</span>Расчет ядра (3 балла)</a></div><div class=\"lev2 toc-item\"><a data-toc-modified-id=\"Оценка-качества-(1-балл)-3.4\" href=\"#Оценка-качества-(1-балл)\"><span class=\"toc-item-num\">3.4&nbsp;&nbsp;</span>Оценка качества (1 балл)</a></div>"
   ]
  },
  {
   "cell_type": "markdown",
   "metadata": {},
   "source": [
    "# Регрессия с SVM (3 балла)"
   ]
  },
  {
   "cell_type": "markdown",
   "metadata": {},
   "source": [
    "SVM можно использовать и для задачи регрессии.\n",
    "\n",
    "Загрузите набор данных из *titanium.csv*<br/>\n",
    "Будем решать задачу восстановления столбца 'y' по столбцу 'x'."
   ]
  },
  {
   "cell_type": "markdown",
   "metadata": {},
   "source": [
    "## Визуализация данных (1 балл)"
   ]
  },
  {
   "cell_type": "markdown",
   "metadata": {},
   "source": [
    "Выполните стандартную предобработку данных и выведите их на графике."
   ]
  },
  {
   "cell_type": "code",
   "execution_count": 1,
   "metadata": {
    "collapsed": true
   },
   "outputs": [],
   "source": [
    "import pandas as pd\n",
    "import numpy as np\n",
    "import pylab as plt\n",
    "%matplotlib inline"
   ]
  },
  {
   "cell_type": "code",
   "execution_count": 2,
   "metadata": {
    "collapsed": false
   },
   "outputs": [
    {
     "data": {
      "text/html": [
       "<div>\n",
       "<table border=\"1\" class=\"dataframe\">\n",
       "  <thead>\n",
       "    <tr style=\"text-align: right;\">\n",
       "      <th></th>\n",
       "      <th>x</th>\n",
       "      <th>y</th>\n",
       "    </tr>\n",
       "  </thead>\n",
       "  <tbody>\n",
       "    <tr>\n",
       "      <th>0</th>\n",
       "      <td>585.0</td>\n",
       "      <td>0.644</td>\n",
       "    </tr>\n",
       "    <tr>\n",
       "      <th>1</th>\n",
       "      <td>595.0</td>\n",
       "      <td>0.622</td>\n",
       "    </tr>\n",
       "    <tr>\n",
       "      <th>2</th>\n",
       "      <td>605.0</td>\n",
       "      <td>0.638</td>\n",
       "    </tr>\n",
       "    <tr>\n",
       "      <th>3</th>\n",
       "      <td>615.0</td>\n",
       "      <td>0.649</td>\n",
       "    </tr>\n",
       "    <tr>\n",
       "      <th>4</th>\n",
       "      <td>625.0</td>\n",
       "      <td>0.652</td>\n",
       "    </tr>\n",
       "  </tbody>\n",
       "</table>\n",
       "</div>"
      ],
      "text/plain": [
       "       x      y\n",
       "0  585.0  0.644\n",
       "1  595.0  0.622\n",
       "2  605.0  0.638\n",
       "3  615.0  0.649\n",
       "4  625.0  0.652"
      ]
     },
     "execution_count": 2,
     "metadata": {},
     "output_type": "execute_result"
    }
   ],
   "source": [
    "data = pd.read_csv('titanium.csv')\n",
    "data.head()"
   ]
  },
  {
   "cell_type": "code",
   "execution_count": 3,
   "metadata": {
    "collapsed": true
   },
   "outputs": [],
   "source": [
    "y = data['y']\n",
    "X = data.drop('y', axis=1)"
   ]
  },
  {
   "cell_type": "code",
   "execution_count": 4,
   "metadata": {
    "collapsed": false
   },
   "outputs": [
    {
     "data": {
      "text/plain": [
       "[<matplotlib.lines.Line2D at 0x1142be8d0>]"
      ]
     },
     "execution_count": 4,
     "metadata": {},
     "output_type": "execute_result"
    },
    {
     "data": {
      "image/png": "[encoded data removed]",
      "text/plain": [
       "<matplotlib.figure.Figure at 0x113f41dd0>"
      ]
     },
     "metadata": {},
     "output_type": "display_data"
    }
   ],
   "source": [
    "plt.plot(X, y,'bo')"
   ]
  },
  {
   "cell_type": "code",
   "execution_count": 22,
   "metadata": {
    "collapsed": false
   },
   "outputs": [
    {
     "data": {
      "text/html": [
       "<div>\n",
       "<table border=\"1\" class=\"dataframe\">\n",
       "  <thead>\n",
       "    <tr style=\"text-align: right;\">\n",
       "      <th></th>\n",
       "      <th>x</th>\n",
       "      <th>y</th>\n",
       "    </tr>\n",
       "  </thead>\n",
       "  <tbody>\n",
       "    <tr>\n",
       "      <th>0</th>\n",
       "      <td>0.000000</td>\n",
       "      <td>0.027423</td>\n",
       "    </tr>\n",
       "    <tr>\n",
       "      <th>1</th>\n",
       "      <td>0.020833</td>\n",
       "      <td>0.013393</td>\n",
       "    </tr>\n",
       "    <tr>\n",
       "      <th>2</th>\n",
       "      <td>0.041667</td>\n",
       "      <td>0.023597</td>\n",
       "    </tr>\n",
       "    <tr>\n",
       "      <th>3</th>\n",
       "      <td>0.062500</td>\n",
       "      <td>0.030612</td>\n",
       "    </tr>\n",
       "    <tr>\n",
       "      <th>4</th>\n",
       "      <td>0.083333</td>\n",
       "      <td>0.032526</td>\n",
       "    </tr>\n",
       "  </tbody>\n",
       "</table>\n",
       "</div>"
      ],
      "text/plain": [
       "          x         y\n",
       "0  0.000000  0.027423\n",
       "1  0.020833  0.013393\n",
       "2  0.041667  0.023597\n",
       "3  0.062500  0.030612\n",
       "4  0.083333  0.032526"
      ]
     },
     "execution_count": 22,
     "metadata": {},
     "output_type": "execute_result"
    }
   ],
   "source": [
    "from sklearn.preprocessing import StandardScaler, MinMaxScaler\n",
    "data.x = MinMaxScaler().fit_transform(X)\n",
    "#data.y = MinMaxScaler().fit_transform(y)\n",
    "data.head()"
   ]
  },
  {
   "cell_type": "markdown",
   "metadata": {},
   "source": [
    "## Обучение моделей (2 балла)"
   ]
  },
  {
   "cell_type": "markdown",
   "metadata": {},
   "source": [
    "Рассмотрим 3 ядра: \n",
    "* Линейное\n",
    "* Полиномиальное (degree = 3, gamma = 6, coef0 = 1)\n",
    "* RBF (gamma = 6, coef0 = 1)\n",
    "\n",
    "Во всех случаях установите точность алгоритма оптимизации `epsilon=0.01`\n",
    "\n",
    "Для каждого из ядер:\n",
    "1. Постройте графики зависимости ошибки от параметра $C$ (ось графика со значениями параметра $C$ должна быть в логарифмической шкале). Ошибка измеряется как средняя абсолютная ошибка. \n",
    "2. Для наилучшего параметра $C$ постройте график с данными и предсказанием с помощью SVM.\n",
    "\n",
    "В каких случаях возникают эффекты недообучения, переобучения?"
   ]
  },
  {
   "cell_type": "code",
   "execution_count": 23,
   "metadata": {
    "collapsed": true
   },
   "outputs": [],
   "source": [
    "from sklearn.svm import SVR"
   ]
  },
  {
   "cell_type": "markdown",
   "metadata": {},
   "source": [
    "# Первый способ"
   ]
  },
  {
   "cell_type": "markdown",
   "metadata": {},
   "source": [
    "Построим линейное ядро:"
   ]
  },
  {
   "cell_type": "code",
   "execution_count": 24,
   "metadata": {
    "collapsed": true
   },
   "outputs": [],
   "source": [
    "X1 = data.x.reshape(-1, 1)\n",
    "y1 = data.y"
   ]
  },
  {
   "cell_type": "code",
   "execution_count": 26,
   "metadata": {
    "collapsed": false
   },
   "outputs": [
    {
     "name": "stdout",
     "output_type": "stream",
     "text": [
      "('CV error : ', 19.103940644343961)\n",
      "('Best C : ', 0.001)\n"
     ]
    },
    {
     "data": {
      "text/plain": [
       "[<matplotlib.lines.Line2D at 0x119cd6f10>]"
      ]
     },
     "execution_count": 26,
     "metadata": {},
     "output_type": "execute_result"
    },
    {
     "data": {
      "image/png": "[encoded data removed]",
      "text/plain": [
       "<matplotlib.figure.Figure at 0x119e79510>"
      ]
     },
     "metadata": {},
     "output_type": "display_data"
    }
   ],
   "source": [
    "from sklearn.grid_search import GridSearchCV\n",
    "\n",
    "C_array = np.logspace(-3, 3, num=7)\n",
    "svr = SVR(kernel='linear')\n",
    "gridsearch = GridSearchCV(svr, param_grid={'C': C_array})\n",
    "gridsearch.fit( X1, y1)\n",
    "\n",
    "print ('CV error : ', 1 - gridsearch.best_score_)\n",
    "print ('Best C : ', gridsearch.best_estimator_.C)\n",
    "\n",
    "plt.plot(C_array)"
   ]
  },
  {
   "cell_type": "markdown",
   "metadata": {},
   "source": [
    "# Второй способ"
   ]
  },
  {
   "cell_type": "markdown",
   "metadata": {},
   "source": [
    "Сначала разобьем выборку на обучающую и отложенную(тестовую) в пропорции 80/20 :"
   ]
  },
  {
   "cell_type": "code",
   "execution_count": 27,
   "metadata": {
    "collapsed": true
   },
   "outputs": [],
   "source": [
    "from sklearn.cross_validation import train_test_split,cross_val_score\n",
    "from sklearn.linear_model import LinearRegression"
   ]
  },
  {
   "cell_type": "code",
   "execution_count": 28,
   "metadata": {
    "collapsed": true
   },
   "outputs": [],
   "source": [
    "X_train, X_test, y_train, y_test = train_test_split(X1, y1, test_size=0.2, random_state=12)"
   ]
  },
  {
   "cell_type": "markdown",
   "metadata": {},
   "source": [
    "### Для линейного ядра:"
   ]
  },
  {
   "cell_type": "markdown",
   "metadata": {},
   "source": [
    "Зададим функцию, вычисляющую оптимальное значение С и среднюю абсолютную ошибку:"
   ]
  },
  {
   "cell_type": "code",
   "execution_count": 29,
   "metadata": {
    "collapsed": true
   },
   "outputs": [],
   "source": [
    "def best_c(svm, c_values):\n",
    "    error = []\n",
    "    for c in c_values:\n",
    "        svr = SVR(kernel=svm,C=c,epsilon=0.01)\n",
    "        y_s=svr.fit(X_train, y_train)\n",
    "        error.append(abs(cross_val_score(y_s, X1, y1, scoring='mean_absolute_error').mean()))\n",
    "\n",
    "    plt.plot(np.log(c_values), error)\n",
    "    print('Best C:', c_values[error.index(np.min(error))],'error (MAE) :',np.min(error))"
   ]
  },
  {
   "cell_type": "code",
   "execution_count": 39,
   "metadata": {
    "collapsed": false
   },
   "outputs": [
    {
     "name": "stdout",
     "output_type": "stream",
     "text": [
      "('Best C:', 0.001, 'error (MAE) :', 0.12879200519863518)\n"
     ]
    },
    {
     "data": {
      "image/png": "[encoded data removed]",
      "text/plain": [
       "<matplotlib.figure.Figure at 0x116ba8d90>"
      ]
     },
     "metadata": {},
     "output_type": "display_data"
    }
   ],
   "source": [
    "best_c('linear', np.logspace(-3, 3, num=10))"
   ]
  },
  {
   "cell_type": "markdown",
   "metadata": {},
   "source": [
    "Наилучшее значение С = 0.001"
   ]
  },
  {
   "cell_type": "markdown",
   "metadata": {},
   "source": [
    "Для наилучшего параметра C построим график с данными и предсказанием с помощью SVM:"
   ]
  },
  {
   "cell_type": "code",
   "execution_count": 42,
   "metadata": {
    "collapsed": false
   },
   "outputs": [
    {
     "data": {
      "text/plain": [
       "[<matplotlib.lines.Line2D at 0x11a11c210>]"
      ]
     },
     "execution_count": 42,
     "metadata": {},
     "output_type": "execute_result"
    },
    {
     "data": {
      "image/png": "[encoded data removed]",
      "text/plain": [
       "<matplotlib.figure.Figure at 0x11a11ce10>"
      ]
     },
     "metadata": {},
     "output_type": "display_data"
    }
   ],
   "source": [
    "p = SVR(kernel='linear', C=0.001).fit(X1, y1).predict(X1)\n",
    "plt.plot(X, p)\n",
    "plt.plot(X, y,'bo')"
   ]
  },
  {
   "cell_type": "markdown",
   "metadata": {},
   "source": [
    "Предсказание с линейным ядром показывает общий уровень, однако не может учесть очобенности динамики данных."
   ]
  },
  {
   "cell_type": "markdown",
   "metadata": {},
   "source": [
    "### Для полиномиального:"
   ]
  },
  {
   "cell_type": "code",
   "execution_count": 31,
   "metadata": {
    "collapsed": false
   },
   "outputs": [],
   "source": [
    "def best_c(svm, c_values):\n",
    "    error = []\n",
    "    for c in c_values:\n",
    "        svr = SVR(kernel=svm,C=c,epsilon=0.01, degree = 3, gamma = 6, coef0 = 1)\n",
    "        y_s=svr.fit(X_train, y_train)\n",
    "        error.append(abs(cross_val_score(y_s, X1, y1, scoring='mean_absolute_error').mean()))\n",
    "\n",
    "    plt.plot(np.log(c_values), error)\n",
    "    print('Best C:', c_values[error.index(np.min(error))],'error (MAE) :',np.min(error))"
   ]
  },
  {
   "cell_type": "code",
   "execution_count": 38,
   "metadata": {
    "collapsed": false
   },
   "outputs": [
    {
     "name": "stdout",
     "output_type": "stream",
     "text": [
      "('Best C:', 0.001, 'error (MAE) :', 0.2173354069235641)\n"
     ]
    },
    {
     "data": {
      "image/png": "[encoded data removed]",
      "text/plain": [
       "<matplotlib.figure.Figure at 0x11a4e2a50>"
      ]
     },
     "metadata": {},
     "output_type": "display_data"
    }
   ],
   "source": [
    "best_c('poly', np.logspace(-3, 3, num=50))"
   ]
  },
  {
   "cell_type": "markdown",
   "metadata": {},
   "source": [
    "Наилучшее С = 0.001"
   ]
  },
  {
   "cell_type": "code",
   "execution_count": 43,
   "metadata": {
    "collapsed": false
   },
   "outputs": [
    {
     "data": {
      "text/plain": [
       "[<matplotlib.lines.Line2D at 0x11a626a10>]"
      ]
     },
     "execution_count": 43,
     "metadata": {},
     "output_type": "execute_result"
    },
    {
     "data": {
      "image/png": "[encoded data removed]",
      "text/plain": [
       "<matplotlib.figure.Figure at 0x11a11c5d0>"
      ]
     },
     "metadata": {},
     "output_type": "display_data"
    }
   ],
   "source": [
    "n = SVR(kernel='poly', C=0.001,degree = 3, gamma = 6, coef0 = 1).fit(X1, y1).predict(X1)\n",
    "plt.plot(X, n)\n",
    "plt.plot(X, y,'bo')"
   ]
  },
  {
   "cell_type": "markdown",
   "metadata": {},
   "source": [
    "Результат похож на результат предсказания с линейным ядром. Так же как и линейное, учитывает общую динамику большого количества данных, однако не учитывает значительный \"всплеск\"  "
   ]
  },
  {
   "cell_type": "markdown",
   "metadata": {},
   "source": [
    "### Для RBF:"
   ]
  },
  {
   "cell_type": "code",
   "execution_count": 33,
   "metadata": {
    "collapsed": true
   },
   "outputs": [],
   "source": [
    "def best_c(svm, c_values):\n",
    "    error = []\n",
    "    for c in c_values:\n",
    "        svr = SVR(kernel=svm,C=c,epsilon=0.01, gamma = 6, coef0 = 1)\n",
    "        y_s=svr.fit(X_train, y_train)\n",
    "        error.append(abs(cross_val_score(y_s, X1, y1, scoring='mean_absolute_error').mean()))\n",
    "\n",
    "    plt.plot(np.log(c_values), error)\n",
    "    print('Best C:', c_values[error.index(np.min(error))],'error (MAE) :',np.min(error))"
   ]
  },
  {
   "cell_type": "code",
   "execution_count": 37,
   "metadata": {
    "collapsed": false
   },
   "outputs": [
    {
     "name": "stdout",
     "output_type": "stream",
     "text": [
      "('Best C:', 0.0054286754393238594, 'error (MAE) :', 0.12735352799990091)\n"
     ]
    },
    {
     "data": {
      "image/png": "[encoded data removed]",
      "text/plain": [
       "<matplotlib.figure.Figure at 0x11a4a4810>"
      ]
     },
     "metadata": {},
     "output_type": "display_data"
    }
   ],
   "source": [
    "best_c('rbf', np.logspace(-3, 3, num=50))"
   ]
  },
  {
   "cell_type": "markdown",
   "metadata": {},
   "source": [
    "Наилучшее С = 0.005"
   ]
  },
  {
   "cell_type": "code",
   "execution_count": 45,
   "metadata": {
    "collapsed": false
   },
   "outputs": [
    {
     "data": {
      "text/plain": [
       "[<matplotlib.lines.Line2D at 0x11a39b110>]"
      ]
     },
     "execution_count": 45,
     "metadata": {},
     "output_type": "execute_result"
    },
    {
     "data": {
      "image/png": "[encoded data removed]",
      "text/plain": [
       "<matplotlib.figure.Figure at 0x11a11ced0>"
      ]
     },
     "metadata": {},
     "output_type": "display_data"
    }
   ],
   "source": [
    "m = SVR(kernel='rbf', C=0.005,gamma = 6, coef0 = 1).fit(X1, y1).predict(X1)\n",
    "plt.plot(X, m)\n",
    "plt.plot(X, y,'bo')"
   ]
  },
  {
   "cell_type": "markdown",
   "metadata": {},
   "source": [
    "Вывод аналогичный предыдущим предсказаниям"
   ]
  },
  {
   "cell_type": "markdown",
   "metadata": {},
   "source": [
    "# Определение языка слова (7 баллов)"
   ]
  },
  {
   "cell_type": "markdown",
   "metadata": {},
   "source": [
    "В данном задании вам необходимо определить, на каком языке написано слово.\n",
    "\n",
    "Даны два текста - первые предложения произведения \"Война и Мир\" на английком и испанском, разбитые на слова."
   ]
  },
  {
   "cell_type": "markdown",
   "metadata": {},
   "source": [
    "## Загрузка (1 балл)\n",
    "\n",
    "Загрузите данные из файлов *war_and_peace_es.txt* и *war_and_peace_en.txt*.<br/> \n",
    "В результате вы должны получить pandas.DataFrame со столбцами *index* | *word* | *label*, где *index* - это индекс pandas, *word* - это слово и *label* - это метка класса (0 или 1)"
   ]
  },
  {
   "cell_type": "code",
   "execution_count": 47,
   "metadata": {
    "collapsed": false
   },
   "outputs": [
    {
     "data": {
      "text/html": [
       "<div>\n",
       "<table border=\"1\" class=\"dataframe\">\n",
       "  <thead>\n",
       "    <tr style=\"text-align: right;\">\n",
       "      <th></th>\n",
       "      <th>word</th>\n",
       "      <th>label</th>\n",
       "    </tr>\n",
       "  </thead>\n",
       "  <tbody>\n",
       "    <tr>\n",
       "      <th>0</th>\n",
       "      <td>war</td>\n",
       "      <td>0</td>\n",
       "    </tr>\n",
       "    <tr>\n",
       "      <th>1</th>\n",
       "      <td>and</td>\n",
       "      <td>0</td>\n",
       "    </tr>\n",
       "    <tr>\n",
       "      <th>2</th>\n",
       "      <td>peace</td>\n",
       "      <td>0</td>\n",
       "    </tr>\n",
       "    <tr>\n",
       "      <th>3</th>\n",
       "      <td>leo</td>\n",
       "      <td>0</td>\n",
       "    </tr>\n",
       "    <tr>\n",
       "      <th>4</th>\n",
       "      <td>tolstoy</td>\n",
       "      <td>0</td>\n",
       "    </tr>\n",
       "  </tbody>\n",
       "</table>\n",
       "</div>"
      ],
      "text/plain": [
       "      word  label\n",
       "0      war      0\n",
       "1      and      0\n",
       "2    peace      0\n",
       "3      leo      0\n",
       "4  tolstoy      0"
      ]
     },
     "execution_count": 47,
     "metadata": {},
     "output_type": "execute_result"
    }
   ],
   "source": [
    "data_en = pd.read_csv('war_and_peace_en.txt', names = ['word'])\n",
    "data_en['label'] = 0\n",
    "data_es = pd.read_csv('war_and_peace_es.txt', names = ['word'])\n",
    "data_es['label'] = 1\n",
    "df = data_en.append(data_es, ignore_index = True)\n",
    "df.head()"
   ]
  },
  {
   "cell_type": "markdown",
   "metadata": {},
   "source": [
    "## Подготовка данных (2 балла)\n",
    "\n",
    "Особенностью пользовательского ядра в sklean.SVC является то, что на вход оно должно принимать вектора чисел.<br/>\n",
    "В нашем случае это будут индексы соответствующих слов из корпуса. То есть вместо вектора ['treat', 'celebrit', 'prince', ...] на вход в ядро подается вектор из индексов [9209, 11145, 7735, ...] с помощью которых вы будете находить сами слова.\n",
    "\n",
    "Прежде чем мы начнем строить ядро, надо подготовить данные. Для этого:\n",
    "1. Задайте переменную RND_SEED, которая будет использоваться в любых генераторах случайных чисел в вашем коде (обычно параметр \"random_seed\")\n",
    "2. Случайным образом перемешайте и заново проиндексируйте таблицу, полученную выше (используйте методы df.sample() и df.reset_index())\n",
    "3. Ядро может вычисляться достаточно долго, поэтому можете урезать таблицу, но оставить в ней не менее 1000 слов.\n",
    "4. Разбейте данные на обучающую и контрольную выборку в пропорции 60/40\n",
    "\n",
    "В результате вы должны получить вектор-столбец X_train, X_test с **индексами** слов и векторы y_train, y_test с метками классов."
   ]
  },
  {
   "cell_type": "code",
   "execution_count": 46,
   "metadata": {
    "collapsed": true
   },
   "outputs": [],
   "source": [
    "from sklearn.cross_validation import train_test_split"
   ]
  },
  {
   "cell_type": "markdown",
   "metadata": {},
   "source": [
    "Случайным образом перемешиваем и заново индексируем таблицу:"
   ]
  },
  {
   "cell_type": "code",
   "execution_count": 48,
   "metadata": {
    "collapsed": false
   },
   "outputs": [
    {
     "data": {
      "text/html": [
       "<div>\n",
       "<table border=\"1\" class=\"dataframe\">\n",
       "  <thead>\n",
       "    <tr style=\"text-align: right;\">\n",
       "      <th></th>\n",
       "      <th>index</th>\n",
       "      <th>word</th>\n",
       "      <th>label</th>\n",
       "    </tr>\n",
       "  </thead>\n",
       "  <tbody>\n",
       "    <tr>\n",
       "      <th>0</th>\n",
       "      <td>5787</td>\n",
       "      <td>che</td>\n",
       "      <td>1</td>\n",
       "    </tr>\n",
       "    <tr>\n",
       "      <th>1</th>\n",
       "      <td>9606</td>\n",
       "      <td>specie</td>\n",
       "      <td>1</td>\n",
       "    </tr>\n",
       "    <tr>\n",
       "      <th>2</th>\n",
       "      <td>3325</td>\n",
       "      <td>moment</td>\n",
       "      <td>0</td>\n",
       "    </tr>\n",
       "    <tr>\n",
       "      <th>3</th>\n",
       "      <td>7409</td>\n",
       "      <td>come</td>\n",
       "      <td>1</td>\n",
       "    </tr>\n",
       "    <tr>\n",
       "      <th>4</th>\n",
       "      <td>3714</td>\n",
       "      <td>who</td>\n",
       "      <td>0</td>\n",
       "    </tr>\n",
       "  </tbody>\n",
       "</table>\n",
       "</div>"
      ],
      "text/plain": [
       "   index    word  label\n",
       "0   5787     che      1\n",
       "1   9606  specie      1\n",
       "2   3325  moment      0\n",
       "3   7409    come      1\n",
       "4   3714     who      0"
      ]
     },
     "execution_count": 48,
     "metadata": {},
     "output_type": "execute_result"
    }
   ],
   "source": [
    "RND_SEED = 12\n",
    "df = df.sample(len(df), replace=True, random_state=RND_SEED)\n",
    "df = df.reset_index()\n",
    "df.head()"
   ]
  },
  {
   "cell_type": "markdown",
   "metadata": {},
   "source": [
    "Урезаем таблицу:"
   ]
  },
  {
   "cell_type": "code",
   "execution_count": 49,
   "metadata": {
    "collapsed": false
   },
   "outputs": [],
   "source": [
    "df1 = df[:1001]"
   ]
  },
  {
   "cell_type": "markdown",
   "metadata": {},
   "source": [
    "Разбиваем на обучающую и контрольную выборки:"
   ]
  },
  {
   "cell_type": "code",
   "execution_count": 50,
   "metadata": {
    "collapsed": false
   },
   "outputs": [],
   "source": [
    "X_train, X_test, y_train, y_test = train_test_split(df1.word, df1.label, test_size = (int(len(df1.word)*0.4)), train_size = (int(len(df1.word)*0.6)), random_state=RND_SEED)"
   ]
  },
  {
   "cell_type": "markdown",
   "metadata": {},
   "source": [
    "## Расчет ядра (3 балла)\n",
    "\n",
    "Теперь напишем собственное ядро для классификации строк. Для сравнения строк будем использовать [расстояние Левенштейна](https://ru.wikipedia.org/wiki/Расстояние_Левенштейна). Реализацию этого расстояния можно получить одним из двух способов:\n",
    "* скопировать функцию wfi_levenshtein из файла [pylev.py](https://github.com/toastdriven/pylev/blob/master/pylev.py)\n",
    "* поставить пакет [editdistance](https://pypi.python.org/pypi/editdistance) (будет работать быстрее, чем предыдущая реализация, но могут возникнуть проблемы с установкой)\n",
    "\n",
    "Ядро для сравнения строк должно принимать максимальное значение, когда слова одинаковы, и минимальное, когда очень отличаются. Это противоположно свойствам расстояния Левенштейна: оно равно 0, когда слова одинаковы, и максимально, когда слова разные. Поэтому подставьте значение расстояния Левенштейна в какое-нибудь ядро, зависящее от расстояния между объектами (например, гауссовское).\n",
    "\n",
    "Функция, реализующая расчет ядра должна принимать две матрицы $U$ и $V$ с признаковым описанием объектов (во время обучения они обе относятся к обучающей выборке, а во время применения - одна матрица относится к обучающей выборке, а другая к контрольной).\n",
    "Функция должна возвращать матрицу значений ядра для всех объектов попарно: $G_{ij} = K(U_i, V_j)$. Здесь $U_i$ — i-ый объект выборки $U$, а $V_j$ — j-ый объект выборки $V$.\n",
    "\n",
    "Сделайте следующее:\n",
    "1. Напишите функцию *string_kernel(U, V)*, расчитывающую матрицу ядра $G_{ij}$\n",
    "2. Визуализируйте матрицу только для тренировочной выборки (функция plt.imshow()).\n"
   ]
  },
  {
   "cell_type": "markdown",
   "metadata": {},
   "source": [
    "Расчет матрицы ядра:"
   ]
  },
  {
   "cell_type": "code",
   "execution_count": 51,
   "metadata": {
    "collapsed": true
   },
   "outputs": [],
   "source": [
    "def string_kernel(U,V,K):\n",
    "    gram_matrix = np.zeros((U.shape[0], V.shape[0]))\n",
    "    for i, x in enumerate(U):\n",
    "        for j, y in enumerate(V):\n",
    "            gram_matrix[i, j] = K(x, y)\n",
    "    return gram_matrix"
   ]
  },
  {
   "cell_type": "markdown",
   "metadata": {},
   "source": [
    "Функция, реализующую расчет ядра (результат обратный расстоянию Левенштейна):"
   ]
  },
  {
   "cell_type": "code",
   "execution_count": 52,
   "metadata": {
    "collapsed": true
   },
   "outputs": [],
   "source": [
    "def exp_levenshtein(string_1, string_2):\n",
    "    len_1 = len(string_1) + 1\n",
    "    len_2 = len(string_2) + 1\n",
    "\n",
    "    d = [0] * (len_1 * len_2)\n",
    "\n",
    "    for i in range(len_1):\n",
    "        d[i] = i\n",
    "    for j in range(len_2):\n",
    "        d[j * len_1] = j\n",
    "\n",
    "    for j in range(1, len_2):\n",
    "        for i in range(1, len_1):\n",
    "            if string_1[i - 1] == string_2[j - 1]:\n",
    "                d[i + j * len_1] = d[i - 1 + (j - 1) * len_1]\n",
    "            else:\n",
    "                d[i + j * len_1] = min(\n",
    "                   d[i - 1 + j * len_1] + 1,        \n",
    "                   d[i + (j - 1) * len_1] + 1,      \n",
    "                   d[i - 1 + (j - 1) * len_1] + 1,  \n",
    "                )\n",
    "\n",
    "    return np.exp(-d[-1])"
   ]
  },
  {
   "cell_type": "code",
   "execution_count": 53,
   "metadata": {
    "collapsed": false
   },
   "outputs": [],
   "source": [
    "from functools import partial\n",
    "correct_kernel = partial(string_kernel, K=exp_levenshtein)"
   ]
  },
  {
   "cell_type": "code",
   "execution_count": 54,
   "metadata": {
    "collapsed": false
   },
   "outputs": [
    {
     "data": {
      "text/plain": [
       "<matplotlib.image.AxesImage at 0x11ad5de10>"
      ]
     },
     "execution_count": 54,
     "metadata": {},
     "output_type": "execute_result"
    },
    {
     "data": {
      "image/png": "[encoded data removed]",
      "text/plain": [
       "<matplotlib.figure.Figure at 0x11a6fcd10>"
      ]
     },
     "metadata": {},
     "output_type": "display_data"
    }
   ],
   "source": [
    "plt.imshow(correct_kernel(X_train,X_train))"
   ]
  },
  {
   "cell_type": "markdown",
   "metadata": {},
   "source": [
    "## Оценка качества (1 балл)\n",
    "\n",
    "Обучите метод опорных векторов с различными значениями параметра штрафа $C$.<br/>\n",
    "Для каждого значения выведите accuracy на обучащей и контрольной выборке.\n",
    "\n",
    "Постарайтесь достичь качества в 70% на тестовой выборке. Для улучшения качества можно увеличить размер тренировочной выборки. Но тогда обучение будет происходить дольше."
   ]
  },
  {
   "cell_type": "code",
   "execution_count": 57,
   "metadata": {
    "collapsed": true
   },
   "outputs": [],
   "source": [
    "from sklearn.metrics import accuracy_score\n",
    "from sklearn.svm import SVC"
   ]
  },
  {
   "cell_type": "markdown",
   "metadata": {},
   "source": [
    "Уменьшим размер выборки (для сокращения времени подсчета)"
   ]
  },
  {
   "cell_type": "code",
   "execution_count": 60,
   "metadata": {
    "collapsed": true
   },
   "outputs": [],
   "source": [
    "df2=df[:200]\n",
    "X_train, X_test, y_train, y_test = train_test_split(df2.index.values, df2.label, test_size = (int(len(df2.word)*0.4)), train_size = (int(len(df2.word)*0.6)), random_state=RND_SEED)\n",
    "X_train1=X_train.reshape(-1,1)\n",
    "X_test1=X_test.reshape(-1,1)"
   ]
  },
  {
   "cell_type": "code",
   "execution_count": 61,
   "metadata": {
    "collapsed": false
   },
   "outputs": [
    {
     "name": "stdout",
     "output_type": "stream",
     "text": [
      "('Test', 0.4375)\n",
      "('Train:', 1.0)\n"
     ]
    }
   ],
   "source": [
    "svc = SVC(kernel=correct_kernel, C = 1)\n",
    "m = svc.fit(X_train1, y_train).predict(X_test1)\n",
    "m1 = svc.fit(X_train1, y_train).predict(X_train1)\n",
    "print (\"Test\",accuracy_score(y_test, m))\n",
    "print(\"Train:\",accuracy_score(y_train, m1))"
   ]
  },
  {
   "cell_type": "code",
   "execution_count": 62,
   "metadata": {
    "collapsed": false
   },
   "outputs": [
    {
     "name": "stdout",
     "output_type": "stream",
     "text": [
      "('Test', 0.4375)\n",
      "('Train:', 0.53333333333333333)\n"
     ]
    }
   ],
   "source": [
    "svc = SVC(kernel=correct_kernel, C = 0.1)\n",
    "m = svc.fit(X_train1, y_train).predict(X_test1)\n",
    "m1 = svc.fit(X_train1, y_train).predict(X_train1)\n",
    "print (\"Test\",accuracy_score(y_test, m))\n",
    "print(\"Train:\",accuracy_score(y_train, m1))"
   ]
  },
  {
   "cell_type": "code",
   "execution_count": 63,
   "metadata": {
    "collapsed": false
   },
   "outputs": [
    {
     "name": "stdout",
     "output_type": "stream",
     "text": [
      "('Test', 0.4375)\n",
      "('Train:', 1.0)\n"
     ]
    }
   ],
   "source": [
    "svc = SVC(kernel=correct_kernel, C = 10)\n",
    "m = svc.fit(X_train1, y_train).predict(X_test1)\n",
    "m1 = svc.fit(X_train1, y_train).predict(X_train1)\n",
    "print (\"Test\",accuracy_score(y_test, m))\n",
    "print(\"Train:\",accuracy_score(y_train, m1))"
   ]
  },
  {
   "cell_type": "code",
   "execution_count": 65,
   "metadata": {
    "collapsed": false
   },
   "outputs": [
    {
     "name": "stdout",
     "output_type": "stream",
     "text": [
      "('Test', 0.4375)\n",
      "('Train:', 1.0)\n"
     ]
    }
   ],
   "source": [
    "svc = SVC(kernel=correct_kernel, C = 1000)\n",
    "m = svc.fit(X_train1, y_train).predict(X_test1)\n",
    "m1 = svc.fit(X_train1, y_train).predict(X_train1)\n",
    "print (\"Test\",accuracy_score(y_test, m))\n",
    "print(\"Train:\",accuracy_score(y_train, m1))"
   ]
  },
  {
   "cell_type": "code",
   "execution_count": null,
   "metadata": {
    "collapsed": true
   },
   "outputs": [],
   "source": []
  }
 ],
 "metadata": {
  "anaconda-cloud": {},
  "kernelspec": {
   "display_name": "Python 2",
   "language": "python",
   "name": "python2"
  },
  "language_info": {
   "codemirror_mode": {
    "name": "ipython",
    "version": 2
   },
   "file_extension": ".py",
   "mimetype": "text/x-python",
   "name": "python",
   "nbconvert_exporter": "python",
   "pygments_lexer": "ipython2",
   "version": "2.7.11"
  },
  "nav_menu": {},
  "toc": {
   "navigate_menu": true,
   "number_sections": true,
   "sideBar": true,
   "threshold": 6,
   "toc_cell": true,
   "toc_section_display": "block",
   "toc_window_display": true
  }
 },
 "nbformat": 4,
 "nbformat_minor": 1
}
