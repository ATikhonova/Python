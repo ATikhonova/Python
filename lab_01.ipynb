{
 "cells": [
  {
   "cell_type": "markdown",
   "metadata": {},
   "source": [
    "# Лабораторная работа 1\n",
    "\n",
    "## Общая информация\n",
    "\n",
    "Дата выдачи: 26.01.2016\n",
    "\n",
    "Срок сдачи: 09.02.2016 09:00MSK \n",
    "\n",
    "### О задании\n",
    "Лабораторная работа №1 направлена на работу с моделями NumPy и Pandas путём решения набора задач. Целью задания является редактирование данного ipython notebook-a (в части блоков с кодом на python) таким образом, чтобы были реализованы указанные в задании функции.\n",
    "\n",
    "### Оценивание и штрафы\n",
    "Каждая из задач имеет определенную «стоимость» (указана в скобках около задачи). Максимально допустимая оценка за работу — 10 баллов.\n",
    "\n",
    "Сдавать задание после указанного срока сдачи нельзя. При выставлении неполного балла за задание в связи с наличием ошибок на усмотрение проверяющего предусмотрена возможность исправить задание на указанных в ответном письме условиях.\n",
    "\n",
    "Задание выполняется САМОСТОЯТЕЛЬНО. «Похожие» решения считаются плагиатом и все задействованные студенты (в том числе те, у кого списали) не могут получить за него больше 0 баллов. Если вы нашли решение какого-то из заданий в открытом источнике, необходимо прислать ссылку на этот источник (скорее всего вы будете не единственным, кто это нашел, поэтому чтобы исключить подозрение в плагиате, необходима ссылка на источник). \n",
    "\n",
    "### Формат сдачи\n",
    "Для сдачи задания переименуйте получившийся файл \\*.ipynb в соответствии со следующим форматом: *Username_(group)_Lab1.ipynb*, где Username — ваша фамилия на латинице, group — название группы (например, Kozlova_IAD-11_Lab1.ipynb). Далее отправьте этот файл на используемую в Вашей группе почту курса (hse.minor.dm@gmail.com) c темой письма *[ИАД-NN] - Лабораторная работа 1 - Фамилия Имя Отчество*.\n",
    "\n",
    "### Выполнение задания на виртуальной машине\n",
    "Если вы решите делать задание на виртуальной машине, для части с Pandas'ом можно не скачивать данные, а загрузить их из папки *data/2008.csv.bz2* (папка data находится в корне). \n",
    "\n",
    "Также учтите, что ваш файл с заданием могут видеть все. К тому же недоступность виртуальной машины не является уважительной причиной для продления дедлайна. "
   ]
  },
  {
   "cell_type": "markdown",
   "metadata": {},
   "source": [
    "## Numpy\n",
    "\n",
    "Во всех заданиях ниже запрещено использовать циклы."
   ]
  },
  {
   "cell_type": "code",
   "execution_count": 1,
   "metadata": {
    "collapsed": false
   },
   "outputs": [],
   "source": [
    "import numpy as np\n",
    "import pandas as pd"
   ]
  },
  {
   "cell_type": "markdown",
   "metadata": {},
   "source": [
    "**1. (0.5 балла)** Реализуйте функцию, принимающую на вход числа N и k и возвращающую np.array длины N, содержащий зацикленную последовательность от 1 до k (включительно). Например:\n",
    "    \n",
    "    print(cycle(10, 3))\n",
    "    > array([1, 2, 3, 1, 2, 3, 1, 2, 3, 1])"
   ]
  },
  {
   "cell_type": "code",
   "execution_count": 3,
   "metadata": {
    "collapsed": false
   },
   "outputs": [],
   "source": [
    "def cycle(N, k):\n",
    "    r = int(np.ceil(float(N)/k))\n",
    "    a = range(1, k+1) * r\n",
    "    return np.array(a[:N])"
   ]
  },
  {
   "cell_type": "markdown",
   "metadata": {},
   "source": [
    "**2. (0.5 балла)** Реализуйте функцию, принимающую на вход np.array размера N и возвращающую матрицу размера N + 1 x N + 1, у которой над главной даигональю стоят элементы массива (остальные элементы должны быть нулевыми). Например:\n",
    "    \n",
    "    print(next_diagonal(np.arange(1, 3)))\n",
    "    > array([[0, 1, 0],\n",
    "             [0, 0, 2],\n",
    "             [0, 0, 0]])"
   ]
  },
  {
   "cell_type": "code",
   "execution_count": 4,
   "metadata": {
    "collapsed": false
   },
   "outputs": [],
   "source": [
    "def next_diagonal(X):\n",
    "    return np.diag(X, k=1)"
   ]
  },
  {
   "cell_type": "markdown",
   "metadata": {},
   "source": [
    "**3. (0.5 балла)** Реализуйте функцию, принимающую на вход матрицу X и два массива i и j одинаковой длины и возвращающую вектор np.array, состоящий из последовательности элементов [X[i[0], j[0]], X[i[1], j[1]], ..., X[i[N-1], j[N-1]]]."
   ]
  },
  {
   "cell_type": "code",
   "execution_count": 5,
   "metadata": {
    "collapsed": false
   },
   "outputs": [],
   "source": [
    "def get_elements(X, i, j):\n",
    "    return X[[i],[j]]"
   ]
  },
  {
   "cell_type": "markdown",
   "metadata": {},
   "source": [
    "**4. (0.5 балла)** Реализуйте функцию, принимающую на вход матрицу X и возвращающую минимальный нечетный элемент матрицы."
   ]
  },
  {
   "cell_type": "code",
   "execution_count": 6,
   "metadata": {
    "collapsed": true
   },
   "outputs": [],
   "source": [
    "def min_odd(X):\n",
    "    return X[X % 2 != 0].min()"
   ]
  },
  {
   "cell_type": "markdown",
   "metadata": {},
   "source": [
    "**5. (1 балл)** Реализуйте функцию, принимающую на вход матрицу и некоторое число и возвращающую ближайший к числу элемент матрицы. Например:\n",
    "\n",
    "    X = np.arange(0,10)\n",
    "    v = 3.6\n",
    "    print(nearest_value(X, v))\n",
    "    > 4"
   ]
  },
  {
   "cell_type": "code",
   "execution_count": 7,
   "metadata": {
    "collapsed": false
   },
   "outputs": [],
   "source": [
    "def nearest_value(X, v):\n",
    "    return X.flat[np.abs(X-v).argmin()]"
   ]
  },
  {
   "cell_type": "markdown",
   "metadata": {},
   "source": [
    "## Pandas\n",
    "\n",
    "Далее вам будет предложено ответить на вопросы по данным об авиарейсах в США за январь-апрель 2008 года.\n",
    "\n",
    "Загрузить данные можно здесь: http://stat-computing.org/dataexpo/2009/2008.csv.bz2 (обратите внимание, что распаковывать этот файл не обязательно — функция pandas.read_csv умеет читать из архивов автоматически)\n",
    "\n",
    "Описание датасета: http://stat-computing.org/dataexpo/2009/the-data.html"
   ]
  },
  {
   "cell_type": "markdown",
   "metadata": {},
   "source": [
    "**0. (0 баллов)** Загрузите данные в pandas."
   ]
  },
  {
   "cell_type": "code",
   "execution_count": 8,
   "metadata": {
    "collapsed": false
   },
   "outputs": [],
   "source": [
    "data=pd.read_csv('2008.csv.bz2')"
   ]
  },
  {
   "cell_type": "markdown",
   "metadata": {},
   "source": [
    "**1. (0.5 балла)** Какая из причин отмены рейса (CancellationCode) была самой частой (расшифровки кодов можно найти в описании данных)? A на какое максимальное время задерживали полет по этой причине?"
   ]
  },
  {
   "cell_type": "code",
   "execution_count": 9,
   "metadata": {
    "collapsed": false
   },
   "outputs": [
    {
     "data": {
      "text/plain": [
       "('Weather', 1352.0)"
      ]
     },
     "execution_count": 9,
     "metadata": {},
     "output_type": "execute_result"
    }
   ],
   "source": [
    "reasons = {'A': 'Carrier', 'B': 'Weather', 'C': 'NAS', 'D': 'Security'}\n",
    "reason_code = data['CancellationCode'].value_counts().index[0]\n",
    "reasons[reason_code], data[reasons[reason_code] + 'Delay'].max()"
   ]
  },
  {
   "cell_type": "markdown",
   "metadata": {},
   "source": [
    "**2. (0.5 балла)** Найдите среднее, минимальное и максимальное расстояние, пройденное самолетом."
   ]
  },
  {
   "cell_type": "code",
   "execution_count": 10,
   "metadata": {
    "collapsed": false
   },
   "outputs": [
    {
     "data": {
      "text/html": [
       "<div>\n",
       "<table border=\"1\" class=\"dataframe\">\n",
       "  <thead>\n",
       "    <tr style=\"text-align: right;\">\n",
       "      <th></th>\n",
       "      <th>min</th>\n",
       "      <th>max</th>\n",
       "      <th>mean</th>\n",
       "    </tr>\n",
       "    <tr>\n",
       "      <th>TailNum</th>\n",
       "      <th></th>\n",
       "      <th></th>\n",
       "      <th></th>\n",
       "    </tr>\n",
       "  </thead>\n",
       "  <tbody>\n",
       "    <tr>\n",
       "      <th>80009E</th>\n",
       "      <td>56</td>\n",
       "      <td>1139</td>\n",
       "      <td>448.082397</td>\n",
       "    </tr>\n",
       "    <tr>\n",
       "      <th>80019E</th>\n",
       "      <td>56</td>\n",
       "      <td>1048</td>\n",
       "      <td>444.955875</td>\n",
       "    </tr>\n",
       "    <tr>\n",
       "      <th>80059E</th>\n",
       "      <td>56</td>\n",
       "      <td>1139</td>\n",
       "      <td>477.571120</td>\n",
       "    </tr>\n",
       "    <tr>\n",
       "      <th>80129E</th>\n",
       "      <td>56</td>\n",
       "      <td>1139</td>\n",
       "      <td>441.490909</td>\n",
       "    </tr>\n",
       "    <tr>\n",
       "      <th>80139E</th>\n",
       "      <td>56</td>\n",
       "      <td>1139</td>\n",
       "      <td>448.020690</td>\n",
       "    </tr>\n",
       "    <tr>\n",
       "      <th>80199E</th>\n",
       "      <td>56</td>\n",
       "      <td>1395</td>\n",
       "      <td>462.456710</td>\n",
       "    </tr>\n",
       "    <tr>\n",
       "      <th>80209E</th>\n",
       "      <td>56</td>\n",
       "      <td>1139</td>\n",
       "      <td>471.293924</td>\n",
       "    </tr>\n",
       "    <tr>\n",
       "      <th>80219E</th>\n",
       "      <td>56</td>\n",
       "      <td>1139</td>\n",
       "      <td>475.417391</td>\n",
       "    </tr>\n",
       "    <tr>\n",
       "      <th>80239E</th>\n",
       "      <td>56</td>\n",
       "      <td>1139</td>\n",
       "      <td>478.893715</td>\n",
       "    </tr>\n",
       "    <tr>\n",
       "      <th>80249E</th>\n",
       "      <td>56</td>\n",
       "      <td>1194</td>\n",
       "      <td>485.736562</td>\n",
       "    </tr>\n",
       "    <tr>\n",
       "      <th>80259E</th>\n",
       "      <td>56</td>\n",
       "      <td>1139</td>\n",
       "      <td>458.866857</td>\n",
       "    </tr>\n",
       "    <tr>\n",
       "      <th>80269E</th>\n",
       "      <td>56</td>\n",
       "      <td>1139</td>\n",
       "      <td>475.152449</td>\n",
       "    </tr>\n",
       "    <tr>\n",
       "      <th>80279E</th>\n",
       "      <td>56</td>\n",
       "      <td>1139</td>\n",
       "      <td>479.739060</td>\n",
       "    </tr>\n",
       "    <tr>\n",
       "      <th>80299E</th>\n",
       "      <td>74</td>\n",
       "      <td>1139</td>\n",
       "      <td>484.782011</td>\n",
       "    </tr>\n",
       "    <tr>\n",
       "      <th>80309E</th>\n",
       "      <td>56</td>\n",
       "      <td>1395</td>\n",
       "      <td>431.741153</td>\n",
       "    </tr>\n",
       "    <tr>\n",
       "      <th>80319E</th>\n",
       "      <td>56</td>\n",
       "      <td>1087</td>\n",
       "      <td>406.861945</td>\n",
       "    </tr>\n",
       "    <tr>\n",
       "      <th>80329E</th>\n",
       "      <td>76</td>\n",
       "      <td>1139</td>\n",
       "      <td>471.671676</td>\n",
       "    </tr>\n",
       "    <tr>\n",
       "      <th>80339E</th>\n",
       "      <td>76</td>\n",
       "      <td>1045</td>\n",
       "      <td>458.596958</td>\n",
       "    </tr>\n",
       "    <tr>\n",
       "      <th>80349E</th>\n",
       "      <td>56</td>\n",
       "      <td>1139</td>\n",
       "      <td>444.193966</td>\n",
       "    </tr>\n",
       "    <tr>\n",
       "      <th>80359E</th>\n",
       "      <td>56</td>\n",
       "      <td>1085</td>\n",
       "      <td>444.413572</td>\n",
       "    </tr>\n",
       "    <tr>\n",
       "      <th>80369E</th>\n",
       "      <td>56</td>\n",
       "      <td>1139</td>\n",
       "      <td>462.295355</td>\n",
       "    </tr>\n",
       "    <tr>\n",
       "      <th>80399E</th>\n",
       "      <td>56</td>\n",
       "      <td>1139</td>\n",
       "      <td>444.606320</td>\n",
       "    </tr>\n",
       "    <tr>\n",
       "      <th>80409E</th>\n",
       "      <td>56</td>\n",
       "      <td>1085</td>\n",
       "      <td>467.827303</td>\n",
       "    </tr>\n",
       "    <tr>\n",
       "      <th>80419E</th>\n",
       "      <td>56</td>\n",
       "      <td>1139</td>\n",
       "      <td>434.133018</td>\n",
       "    </tr>\n",
       "    <tr>\n",
       "      <th>83909E</th>\n",
       "      <td>56</td>\n",
       "      <td>1139</td>\n",
       "      <td>440.979534</td>\n",
       "    </tr>\n",
       "    <tr>\n",
       "      <th>84099E</th>\n",
       "      <td>56</td>\n",
       "      <td>1139</td>\n",
       "      <td>421.327352</td>\n",
       "    </tr>\n",
       "    <tr>\n",
       "      <th>84129E</th>\n",
       "      <td>56</td>\n",
       "      <td>1045</td>\n",
       "      <td>421.650291</td>\n",
       "    </tr>\n",
       "    <tr>\n",
       "      <th>84169E</th>\n",
       "      <td>56</td>\n",
       "      <td>1139</td>\n",
       "      <td>424.562734</td>\n",
       "    </tr>\n",
       "    <tr>\n",
       "      <th>84239E</th>\n",
       "      <td>56</td>\n",
       "      <td>1139</td>\n",
       "      <td>433.706803</td>\n",
       "    </tr>\n",
       "    <tr>\n",
       "      <th>84329E</th>\n",
       "      <td>56</td>\n",
       "      <td>1139</td>\n",
       "      <td>435.743250</td>\n",
       "    </tr>\n",
       "    <tr>\n",
       "      <th>...</th>\n",
       "      <td>...</td>\n",
       "      <td>...</td>\n",
       "      <td>...</td>\n",
       "    </tr>\n",
       "    <tr>\n",
       "      <th>N988DL</th>\n",
       "      <td>116</td>\n",
       "      <td>1352</td>\n",
       "      <td>622.556081</td>\n",
       "    </tr>\n",
       "    <tr>\n",
       "      <th>N988HA</th>\n",
       "      <td>110</td>\n",
       "      <td>598</td>\n",
       "      <td>243.848107</td>\n",
       "    </tr>\n",
       "    <tr>\n",
       "      <th>N989AT</th>\n",
       "      <td>215</td>\n",
       "      <td>1310</td>\n",
       "      <td>621.216749</td>\n",
       "    </tr>\n",
       "    <tr>\n",
       "      <th>N989CA</th>\n",
       "      <td>64</td>\n",
       "      <td>1024</td>\n",
       "      <td>456.157444</td>\n",
       "    </tr>\n",
       "    <tr>\n",
       "      <th>N989DL</th>\n",
       "      <td>116</td>\n",
       "      <td>1547</td>\n",
       "      <td>594.463365</td>\n",
       "    </tr>\n",
       "    <tr>\n",
       "      <th>N989HA</th>\n",
       "      <td>110</td>\n",
       "      <td>598</td>\n",
       "      <td>245.113694</td>\n",
       "    </tr>\n",
       "    <tr>\n",
       "      <th>N990AT</th>\n",
       "      <td>215</td>\n",
       "      <td>1310</td>\n",
       "      <td>640.232489</td>\n",
       "    </tr>\n",
       "    <tr>\n",
       "      <th>N990DL</th>\n",
       "      <td>116</td>\n",
       "      <td>1547</td>\n",
       "      <td>604.362725</td>\n",
       "    </tr>\n",
       "    <tr>\n",
       "      <th>N991AT</th>\n",
       "      <td>215</td>\n",
       "      <td>1310</td>\n",
       "      <td>639.959681</td>\n",
       "    </tr>\n",
       "    <tr>\n",
       "      <th>N991DL</th>\n",
       "      <td>134</td>\n",
       "      <td>1547</td>\n",
       "      <td>605.912117</td>\n",
       "    </tr>\n",
       "    <tr>\n",
       "      <th>N991HA</th>\n",
       "      <td>110</td>\n",
       "      <td>598</td>\n",
       "      <td>244.842697</td>\n",
       "    </tr>\n",
       "    <tr>\n",
       "      <th>N991cA</th>\n",
       "      <td>64</td>\n",
       "      <td>1024</td>\n",
       "      <td>489.656036</td>\n",
       "    </tr>\n",
       "    <tr>\n",
       "      <th>N992AT</th>\n",
       "      <td>215</td>\n",
       "      <td>1310</td>\n",
       "      <td>614.584906</td>\n",
       "    </tr>\n",
       "    <tr>\n",
       "      <th>N992DL</th>\n",
       "      <td>116</td>\n",
       "      <td>1547</td>\n",
       "      <td>618.668008</td>\n",
       "    </tr>\n",
       "    <tr>\n",
       "      <th>N993AT</th>\n",
       "      <td>215</td>\n",
       "      <td>1243</td>\n",
       "      <td>640.345734</td>\n",
       "    </tr>\n",
       "    <tr>\n",
       "      <th>N993DL</th>\n",
       "      <td>116</td>\n",
       "      <td>1638</td>\n",
       "      <td>604.019973</td>\n",
       "    </tr>\n",
       "    <tr>\n",
       "      <th>N994AT</th>\n",
       "      <td>215</td>\n",
       "      <td>1310</td>\n",
       "      <td>635.272635</td>\n",
       "    </tr>\n",
       "    <tr>\n",
       "      <th>N994DL</th>\n",
       "      <td>116</td>\n",
       "      <td>1589</td>\n",
       "      <td>601.098741</td>\n",
       "    </tr>\n",
       "    <tr>\n",
       "      <th>N995AT</th>\n",
       "      <td>215</td>\n",
       "      <td>1310</td>\n",
       "      <td>626.845621</td>\n",
       "    </tr>\n",
       "    <tr>\n",
       "      <th>N995DL</th>\n",
       "      <td>116</td>\n",
       "      <td>1547</td>\n",
       "      <td>619.886442</td>\n",
       "    </tr>\n",
       "    <tr>\n",
       "      <th>N996AT</th>\n",
       "      <td>215</td>\n",
       "      <td>1310</td>\n",
       "      <td>621.493411</td>\n",
       "    </tr>\n",
       "    <tr>\n",
       "      <th>N996DL</th>\n",
       "      <td>116</td>\n",
       "      <td>1547</td>\n",
       "      <td>578.904016</td>\n",
       "    </tr>\n",
       "    <tr>\n",
       "      <th>N997AT</th>\n",
       "      <td>215</td>\n",
       "      <td>1310</td>\n",
       "      <td>639.614845</td>\n",
       "    </tr>\n",
       "    <tr>\n",
       "      <th>N997DL</th>\n",
       "      <td>116</td>\n",
       "      <td>1589</td>\n",
       "      <td>637.992393</td>\n",
       "    </tr>\n",
       "    <tr>\n",
       "      <th>N998AT</th>\n",
       "      <td>215</td>\n",
       "      <td>1310</td>\n",
       "      <td>635.035027</td>\n",
       "    </tr>\n",
       "    <tr>\n",
       "      <th>N998DL</th>\n",
       "      <td>134</td>\n",
       "      <td>1547</td>\n",
       "      <td>597.659229</td>\n",
       "    </tr>\n",
       "    <tr>\n",
       "      <th>N999CA</th>\n",
       "      <td>70</td>\n",
       "      <td>1011</td>\n",
       "      <td>473.371747</td>\n",
       "    </tr>\n",
       "    <tr>\n",
       "      <th>N999DN</th>\n",
       "      <td>116</td>\n",
       "      <td>1282</td>\n",
       "      <td>601.527689</td>\n",
       "    </tr>\n",
       "    <tr>\n",
       "      <th>NHZOAL</th>\n",
       "      <td>163</td>\n",
       "      <td>2404</td>\n",
       "      <td>2383.631579</td>\n",
       "    </tr>\n",
       "    <tr>\n",
       "      <th>Unknow</th>\n",
       "      <td>390</td>\n",
       "      <td>1463</td>\n",
       "      <td>924.916667</td>\n",
       "    </tr>\n",
       "  </tbody>\n",
       "</table>\n",
       "<p>5373 rows × 3 columns</p>\n",
       "</div>"
      ],
      "text/plain": [
       "         min   max         mean\n",
       "TailNum                        \n",
       "80009E    56  1139   448.082397\n",
       "80019E    56  1048   444.955875\n",
       "80059E    56  1139   477.571120\n",
       "80129E    56  1139   441.490909\n",
       "80139E    56  1139   448.020690\n",
       "80199E    56  1395   462.456710\n",
       "80209E    56  1139   471.293924\n",
       "80219E    56  1139   475.417391\n",
       "80239E    56  1139   478.893715\n",
       "80249E    56  1194   485.736562\n",
       "80259E    56  1139   458.866857\n",
       "80269E    56  1139   475.152449\n",
       "80279E    56  1139   479.739060\n",
       "80299E    74  1139   484.782011\n",
       "80309E    56  1395   431.741153\n",
       "80319E    56  1087   406.861945\n",
       "80329E    76  1139   471.671676\n",
       "80339E    76  1045   458.596958\n",
       "80349E    56  1139   444.193966\n",
       "80359E    56  1085   444.413572\n",
       "80369E    56  1139   462.295355\n",
       "80399E    56  1139   444.606320\n",
       "80409E    56  1085   467.827303\n",
       "80419E    56  1139   434.133018\n",
       "83909E    56  1139   440.979534\n",
       "84099E    56  1139   421.327352\n",
       "84129E    56  1045   421.650291\n",
       "84169E    56  1139   424.562734\n",
       "84239E    56  1139   433.706803\n",
       "84329E    56  1139   435.743250\n",
       "...      ...   ...          ...\n",
       "N988DL   116  1352   622.556081\n",
       "N988HA   110   598   243.848107\n",
       "N989AT   215  1310   621.216749\n",
       "N989CA    64  1024   456.157444\n",
       "N989DL   116  1547   594.463365\n",
       "N989HA   110   598   245.113694\n",
       "N990AT   215  1310   640.232489\n",
       "N990DL   116  1547   604.362725\n",
       "N991AT   215  1310   639.959681\n",
       "N991DL   134  1547   605.912117\n",
       "N991HA   110   598   244.842697\n",
       "N991cA    64  1024   489.656036\n",
       "N992AT   215  1310   614.584906\n",
       "N992DL   116  1547   618.668008\n",
       "N993AT   215  1243   640.345734\n",
       "N993DL   116  1638   604.019973\n",
       "N994AT   215  1310   635.272635\n",
       "N994DL   116  1589   601.098741\n",
       "N995AT   215  1310   626.845621\n",
       "N995DL   116  1547   619.886442\n",
       "N996AT   215  1310   621.493411\n",
       "N996DL   116  1547   578.904016\n",
       "N997AT   215  1310   639.614845\n",
       "N997DL   116  1589   637.992393\n",
       "N998AT   215  1310   635.035027\n",
       "N998DL   134  1547   597.659229\n",
       "N999CA    70  1011   473.371747\n",
       "N999DN   116  1282   601.527689\n",
       "NHZOAL   163  2404  2383.631579\n",
       "Unknow   390  1463   924.916667\n",
       "\n",
       "[5373 rows x 3 columns]"
      ]
     },
     "execution_count": 10,
     "metadata": {},
     "output_type": "execute_result"
    }
   ],
   "source": [
    "df1 = data['Distance'].groupby(data['TailNum'])\n",
    "pd.DataFrame([df1.min(), df1.max(), df1.mean()], index=['min', 'max', 'mean']).T"
   ]
  },
  {
   "cell_type": "markdown",
   "metadata": {},
   "source": [
    "**3. (1 балл)** Найдите рейс (FlightNum) с максимальной длиной перелетов. Уникален ли такой рейс?"
   ]
  },
  {
   "cell_type": "code",
   "execution_count": 11,
   "metadata": {
    "collapsed": false
   },
   "outputs": [
    {
     "data": {
      "text/plain": [
       "(4243, False)"
      ]
     },
     "execution_count": 11,
     "metadata": {},
     "output_type": "execute_result"
    }
   ],
   "source": [
    "df1 = data['Distance'].groupby(data['FlightNum'])\n",
    "fl = df1.max()\n",
    "fl[1], fl[1] != fl[2]"
   ]
  },
  {
   "cell_type": "markdown",
   "metadata": {},
   "source": [
    "**4. (1 балл)** Из какого аэропорта было произведено больше всего вылетов? В каком городе он находится?"
   ]
  },
  {
   "cell_type": "code",
   "execution_count": 12,
   "metadata": {
    "collapsed": false
   },
   "outputs": [
    {
     "data": {
      "text/html": [
       "<div>\n",
       "<table border=\"1\" class=\"dataframe\">\n",
       "  <thead>\n",
       "    <tr style=\"text-align: right;\">\n",
       "      <th></th>\n",
       "      <th>OriginAirport</th>\n",
       "      <th>OriginCity</th>\n",
       "    </tr>\n",
       "  </thead>\n",
       "  <tbody>\n",
       "    <tr>\n",
       "      <th>59603</th>\n",
       "      <td>William B Hartsfield-Atlanta Intl</td>\n",
       "      <td>Atlanta</td>\n",
       "    </tr>\n",
       "  </tbody>\n",
       "</table>\n",
       "</div>"
      ],
      "text/plain": [
       "                           OriginAirport OriginCity\n",
       "59603  William B Hartsfield-Atlanta Intl    Atlanta"
      ]
     },
     "execution_count": 12,
     "metadata": {},
     "output_type": "execute_result"
    }
   ],
   "source": [
    "airports = pd.read_csv('airports.csv')\n",
    "merged = pd.merge(data[['FlightNum', 'AirTime', 'Origin', 'Dest']], airports[['iata', 'city', 'airport']], left_on='Origin', right_on='iata')\n",
    "merged = merged.rename(columns={'city': 'OriginCity', 'airport': 'OriginAirport'})\n",
    "merged.drop('iata', axis=1, inplace=True)\n",
    "\n",
    "merged = pd.merge(merged, airports[['iata', 'city', 'airport']], left_on='Dest', right_on='iata')\n",
    "merged = merged.rename(columns={'city': 'DestCity', 'airport': 'DestAirport'})\n",
    "merged.drop('iata', axis=1, inplace=True)\n",
    "\n",
    "airport = merged['OriginAirport'].value_counts().index[0]\n",
    "merged[merged['OriginAirport'] == airport][:1][['OriginAirport', 'OriginCity']]\n"
   ]
  },
  {
   "cell_type": "markdown",
   "metadata": {},
   "source": [
    "**5. (1 балл)** Найдите для каждого аэропорта среднее время полета (AirTime) по всем вылетевшим из него рейсам. Какой аэропорт имеет наибольшее значение этого показателя?"
   ]
  },
  {
   "cell_type": "code",
   "execution_count": 15,
   "metadata": {
    "collapsed": false
   },
   "outputs": [
    {
     "data": {
      "text/plain": [
       "OriginAirport\n",
       "Luis Munoz Marin International          203.850843\n",
       "Rafael Hernandez                        190.857996\n",
       "Mercedita                               184.336927\n",
       "Cyril E. King                           168.681929\n",
       "Henry E. Rohlsen                        168.101176\n",
       "John F Kennedy Intl                     167.355980\n",
       "Ted Stevens Anchorage International     156.163749\n",
       "Seattle-Tacoma Intl                     154.814356\n",
       "Adak                                    151.423913\n",
       "Newark Intl                             143.296556\n",
       "Miami International                     142.526073\n",
       "Washington Dulles International         135.594889\n",
       "Philadelphia Intl                       133.680779\n",
       "Stewart                                 132.768826\n",
       "Gen Edw L Logan Intl                    132.636955\n",
       "San Francisco International             132.337412\n",
       "Fort Lauderdale-Hollywood Int'l         130.374548\n",
       "Long Island - MacArthur                 129.134457\n",
       "Los Angeles International               128.859337\n",
       "Westchester Cty                         128.567018\n",
       "Greater Rockford                        128.235088\n",
       "Long Beach (Daugherty )                 127.073577\n",
       "Orlando International                   127.008347\n",
       "Southwest Florida International         126.046257\n",
       "Palm Beach International                125.329374\n",
       "Portland Intl                           123.196157\n",
       "McCarran International                  119.734438\n",
       "Honolulu International                  119.579009\n",
       "Bradley International                   118.701612\n",
       "Chicago Midway                          118.226173\n",
       "                                           ...    \n",
       "Capital City                             37.116345\n",
       "Bemidji-Beltrami County                  37.000000\n",
       "Bush                                     36.933814\n",
       "Abilene Regional                         36.789977\n",
       "Erie Intl                                36.448766\n",
       "Waterloo Municipal                       36.373134\n",
       "Yakutat                                  36.372159\n",
       "Pocatello Regional                       36.083028\n",
       "Merle K (Mudhole) Smith                  35.385269\n",
       "Southwest Georgia Regional               35.379759\n",
       "Hilo International                       35.096000\n",
       "Kalamazoo County                         34.846602\n",
       "Tri-State/Walker-Long                    34.722581\n",
       "Modesto City-County-Harry Sham           34.025515\n",
       "Inyokern                                 33.659365\n",
       "Dubuque Municipal                        31.628093\n",
       "Tyler Pounds                             30.372715\n",
       "Waco Regional                            29.875977\n",
       "Sheppard AFB/Wichita Falls Municipal     29.490040\n",
       "Lake Charles Regional                    28.534031\n",
       "MC Clellan-Palomar Airport               25.901675\n",
       "Columbus Metropolitan                    24.966066\n",
       "Middle Georgia Regional                  24.866559\n",
       "Southeast Texas Regional                 22.147860\n",
       "Muskegon County                          22.128205\n",
       "Oxnard                                   20.625492\n",
       "James C. Johnson Petersburg              20.115160\n",
       "Pueblo Memorial                          20.000000\n",
       "Wrangell                                 16.741606\n",
       "Gustavus                                 15.277108\n",
       "Name: AirTime, dtype: float64"
      ]
     },
     "execution_count": 15,
     "metadata": {},
     "output_type": "execute_result"
    }
   ],
   "source": [
    "df1 = merged['AirTime'].groupby(merged['OriginAirport'])\n",
    "df1.mean().sort_values(ascending=0)"
   ]
  },
  {
   "cell_type": "markdown",
   "metadata": {},
   "source": [
    "**6. (1.5 балла)** Найдите самое популярное направление и сколько рейсов по нему совершено. Ответом является тройка (Аэропорт отправления, аэропорт прибытия, количество рейсов)"
   ]
  },
  {
   "cell_type": "code",
   "execution_count": 18,
   "metadata": {
    "collapsed": false
   },
   "outputs": [
    {
     "data": {
      "text/plain": [
       "OriginAirport                                         \n",
       "San Francisco International  Los Angeles International    13788\n",
       "dtype: int64"
      ]
     },
     "execution_count": 18,
     "metadata": {},
     "output_type": "execute_result"
    }
   ],
   "source": [
    "df1 = merged['DestAirport'].groupby(merged['OriginAirport'])\n",
    "df1.value_counts().sort_values(ascending=0)[:1]"
   ]
  },
  {
   "cell_type": "markdown",
   "metadata": {},
   "source": [
    "**7. (1.5 балла)** Найдите аэропорт, у которого наибольшая доля задержанных (DepDelay > 0) рейсов. Исключите при этом из рассмотрения аэропорты, из которых было отправлено меньше 1000 рейсов (используйте функцию filter после groupby)."
   ]
  },
  {
   "cell_type": "code",
   "execution_count": null,
   "metadata": {
    "collapsed": false
   },
   "outputs": [],
   "source": [
    "\n"
   ]
  },
  {
   "cell_type": "code",
   "execution_count": null,
   "metadata": {
    "collapsed": true
   },
   "outputs": [],
   "source": []
  }
 ],
 "metadata": {
  "kernelspec": {
   "display_name": "Python 2",
   "language": "python",
   "name": "python2"
  },
  "language_info": {
   "codemirror_mode": {
    "name": "ipython",
    "version": 2
   },
   "file_extension": ".py",
   "mimetype": "text/x-python",
   "name": "python",
   "nbconvert_exporter": "python",
   "pygments_lexer": "ipython2",
   "version": "2.7.11"
  }
 },
 "nbformat": 4,
 "nbformat_minor": 0
}
