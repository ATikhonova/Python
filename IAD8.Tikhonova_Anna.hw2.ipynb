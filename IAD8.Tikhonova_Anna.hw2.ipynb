{
 "cells": [
  {
   "cell_type": "markdown",
   "metadata": {},
   "source": [
    "# Домашнее задание 2"
   ]
  },
  {
   "cell_type": "markdown",
   "metadata": {},
   "source": [
    "Используя датасет [STUDENT ALCOHOL CONSUMPTION](https://archive.ics.uci.edu/ml/datasets/STUDENT+ALCOHOL+CONSUMPTION#) и статью \"USING\tDATA\tMINING\tTO\tPREDICT\tSECONDARY SCHOOL\tSTUDENT\tALCOHOL\tCONSUMPTION\" выполните следующие задания:"
   ]
  },
  {
   "cell_type": "markdown",
   "metadata": {},
   "source": [
    "### Предобработка (Max 2)\n",
    "- Приведите описание признаков датасета на русском языке с указанием типа данных (0.3 балла)"
   ]
  },
  {
   "cell_type": "markdown",
   "metadata": {},
   "source": [
    "- 1 school - из какой школы ученик (бинарный: \"GP\" - Gabriel Pereira или \"MS\" - Mousinho da Silveira)\n",
    "- 2 sex - пол (бинарный: \"F\" - женский or \"M\" - мужской)\n",
    "- 3 age - возраст (числовой: от 15 до 22)\n",
    "- 4 address - место жительства (тип места жительства) (бинарный: \"U\" - городской or \"R\" - сельский)\n",
    "- 5 famsize - размер семьи (бинарный: \"LE3\" - 3 или меньше человека ; \"GT3\" - строго больше 3-х человек)\n",
    "- 6 Pstatus - семейное положение родителей (бинарный: \"T\" - живут вместе или \"A\" - живут раздельно)\n",
    "- 7 Medu - образование матери (числовой: 0 - нет образования,  1 - начальная школа (4th grade), 2 – 5th to 9th средняя школа, 3 – полное среднее образование or 4 – высшее образование)\n",
    "- 8 Fedu - образование отца (числовой: 0 - нет,  1 - начальная школа (4th grade), 2 – 5th to 9th средняя школа, 3 – полное среднее образование or 4 – высшее образование)\n",
    "- 9 Mjob - работа матери (категориальный: \"teacher\", \"health\" связано с медицинскими услугами, гражданские \"services\" (например, в администрации или полиции), \"at_home\" или \"other\")\n",
    "- 10 Fjob - работа отца (категориальный: \"teacher\", \"health\" связано с медицинскими услугами, гражданские \"services\" (например, в администрации или полиции), \"at_home\" или \"other\")\n",
    "- 11 reason - причина выбора этой школы (категориальный: близко к дому \"home\", репутация школы \"reputation\", \"course\" предпочтительные курсы или \"other\")\n",
    "- 12 guardian - опекун (категориальный: \"mother\", \"father\" или \"other\")\n",
    "- 13 traveltime - время на дорогу до школы (числовой: 1 - <15 min., 2 - 15 to 30 min., 3 - 30 min. to 1 hour, or 4 - >1 hour)\n",
    "- 14 studytime - время, затрачиваемое на учебу (в неделю) (числовой: 1 - <2 hours, 2 - 2 to 5 hours, 3 - 5 to 10 hours, or 4 - >10 hours)\n",
    "- 15 failures - количество несданных предметов ранее (числовой: n if 1 ≤ n < 3,else 4)\n",
    "- 16 schoolsup - доп образовательная поддержка (бинарный : yes or no)\n",
    "- 17 famsup - семейная образовательная поддержка (бинарный : yes or no)\n",
    "- 18 paid - дополнительный платные занятия по курсу (Math or Portuguese) (бинарный: yes or no)\n",
    "- 19 activities - внеклассные занятия (бинарный: yes or no)\n",
    "- 20 nursery - посещал детский сад (бинарный: yes or no)\n",
    "- 21 higher - планирует получать высшее образование (бинарный: yes or no)\n",
    "- 22 internet - доступ к интернету дома (бинарный: yes or no)\n",
    "- 23 romantic - состоит в романтических отношениях (бинарный: yes or no)\n",
    "- 24 famrel - качество отношений в семье (числовой: from 1 - очень плохо to 5 - отлично)\n",
    "- 25 freetime - свободное время после школы (числовой: from 1 - очень мало to 5 - очень много)\n",
    "- 26 goout - отдых с друзьями (числовой: from 1 - очень мало to 5 - очень много)\n",
    "- 27 Dalc - употребление алкоголя по будням (числовой: from 1 - очень мало to 5 - очень много)\n",
    "- 28 Walc - употребление алкоголя по выходным (числовой: from 1 - очень мало to 5 - очень много)\n",
    "- 29 health - состояние здоровья на данный момент (числовой: from 1 - очень плохо to 5 - отлично)\n",
    "- 30 absences - количество пропусков школы (числовой: от 0 до 93)\n",
    "\n",
    "эти оценки связаны с курсом Математика или Португальсткий:\n",
    "\n",
    "- 31 G1 - оценка за первый семестр (числовой: от 0 до 20)\n",
    "- 31 G2 - оценка за второй семестр (числовой: от 0 до 20)\n",
    "- 32 G3 - итоговая оценка (числовой: от 0 до 20, оценка получаемая на выходе) [целевая переменная]"
   ]
  },
  {
   "cell_type": "code",
   "execution_count": 33,
   "metadata": {
    "collapsed": true
   },
   "outputs": [],
   "source": [
    "import pandas as pd\n",
    "import numpy as np\n",
    "import pylab as plt\n",
    "import matplotlib.pyplot as plt\n",
    "from sklearn.feature_selection import SelectKBest, f_regression\n",
    "%matplotlib inline"
   ]
  },
  {
   "cell_type": "markdown",
   "metadata": {},
   "source": [
    "- Предобработка данных (1.7)"
   ]
  },
  {
   "cell_type": "code",
   "execution_count": 2,
   "metadata": {
    "collapsed": false
   },
   "outputs": [
    {
     "data": {
      "text/html": [
       "<div>\n",
       "<table border=\"1\" class=\"dataframe\">\n",
       "  <thead>\n",
       "    <tr style=\"text-align: right;\">\n",
       "      <th></th>\n",
       "      <th>school</th>\n",
       "      <th>sex</th>\n",
       "      <th>age</th>\n",
       "      <th>address</th>\n",
       "      <th>famsize</th>\n",
       "      <th>Pstatus</th>\n",
       "      <th>Medu</th>\n",
       "      <th>Fedu</th>\n",
       "      <th>Mjob</th>\n",
       "      <th>Fjob</th>\n",
       "      <th>...</th>\n",
       "      <th>famrel</th>\n",
       "      <th>freetime</th>\n",
       "      <th>goout</th>\n",
       "      <th>Dalc</th>\n",
       "      <th>Walc</th>\n",
       "      <th>health</th>\n",
       "      <th>absences</th>\n",
       "      <th>G1</th>\n",
       "      <th>G2</th>\n",
       "      <th>G3</th>\n",
       "    </tr>\n",
       "  </thead>\n",
       "  <tbody>\n",
       "    <tr>\n",
       "      <th>0</th>\n",
       "      <td>GP</td>\n",
       "      <td>F</td>\n",
       "      <td>18</td>\n",
       "      <td>U</td>\n",
       "      <td>GT3</td>\n",
       "      <td>A</td>\n",
       "      <td>4</td>\n",
       "      <td>4</td>\n",
       "      <td>at_home</td>\n",
       "      <td>teacher</td>\n",
       "      <td>...</td>\n",
       "      <td>4</td>\n",
       "      <td>3</td>\n",
       "      <td>4</td>\n",
       "      <td>1</td>\n",
       "      <td>1</td>\n",
       "      <td>3</td>\n",
       "      <td>6</td>\n",
       "      <td>5</td>\n",
       "      <td>6</td>\n",
       "      <td>6</td>\n",
       "    </tr>\n",
       "    <tr>\n",
       "      <th>1</th>\n",
       "      <td>GP</td>\n",
       "      <td>F</td>\n",
       "      <td>17</td>\n",
       "      <td>U</td>\n",
       "      <td>GT3</td>\n",
       "      <td>T</td>\n",
       "      <td>1</td>\n",
       "      <td>1</td>\n",
       "      <td>at_home</td>\n",
       "      <td>other</td>\n",
       "      <td>...</td>\n",
       "      <td>5</td>\n",
       "      <td>3</td>\n",
       "      <td>3</td>\n",
       "      <td>1</td>\n",
       "      <td>1</td>\n",
       "      <td>3</td>\n",
       "      <td>4</td>\n",
       "      <td>5</td>\n",
       "      <td>5</td>\n",
       "      <td>6</td>\n",
       "    </tr>\n",
       "    <tr>\n",
       "      <th>2</th>\n",
       "      <td>GP</td>\n",
       "      <td>F</td>\n",
       "      <td>15</td>\n",
       "      <td>U</td>\n",
       "      <td>LE3</td>\n",
       "      <td>T</td>\n",
       "      <td>1</td>\n",
       "      <td>1</td>\n",
       "      <td>at_home</td>\n",
       "      <td>other</td>\n",
       "      <td>...</td>\n",
       "      <td>4</td>\n",
       "      <td>3</td>\n",
       "      <td>2</td>\n",
       "      <td>2</td>\n",
       "      <td>3</td>\n",
       "      <td>3</td>\n",
       "      <td>10</td>\n",
       "      <td>7</td>\n",
       "      <td>8</td>\n",
       "      <td>10</td>\n",
       "    </tr>\n",
       "    <tr>\n",
       "      <th>3</th>\n",
       "      <td>GP</td>\n",
       "      <td>F</td>\n",
       "      <td>15</td>\n",
       "      <td>U</td>\n",
       "      <td>GT3</td>\n",
       "      <td>T</td>\n",
       "      <td>4</td>\n",
       "      <td>2</td>\n",
       "      <td>health</td>\n",
       "      <td>services</td>\n",
       "      <td>...</td>\n",
       "      <td>3</td>\n",
       "      <td>2</td>\n",
       "      <td>2</td>\n",
       "      <td>1</td>\n",
       "      <td>1</td>\n",
       "      <td>5</td>\n",
       "      <td>2</td>\n",
       "      <td>15</td>\n",
       "      <td>14</td>\n",
       "      <td>15</td>\n",
       "    </tr>\n",
       "    <tr>\n",
       "      <th>4</th>\n",
       "      <td>GP</td>\n",
       "      <td>F</td>\n",
       "      <td>16</td>\n",
       "      <td>U</td>\n",
       "      <td>GT3</td>\n",
       "      <td>T</td>\n",
       "      <td>3</td>\n",
       "      <td>3</td>\n",
       "      <td>other</td>\n",
       "      <td>other</td>\n",
       "      <td>...</td>\n",
       "      <td>4</td>\n",
       "      <td>3</td>\n",
       "      <td>2</td>\n",
       "      <td>1</td>\n",
       "      <td>2</td>\n",
       "      <td>5</td>\n",
       "      <td>4</td>\n",
       "      <td>6</td>\n",
       "      <td>10</td>\n",
       "      <td>10</td>\n",
       "    </tr>\n",
       "  </tbody>\n",
       "</table>\n",
       "<p>5 rows × 33 columns</p>\n",
       "</div>"
      ],
      "text/plain": [
       "  school sex  age address famsize Pstatus  Medu  Fedu     Mjob      Fjob ...  \\\n",
       "0     GP   F   18       U     GT3       A     4     4  at_home   teacher ...   \n",
       "1     GP   F   17       U     GT3       T     1     1  at_home     other ...   \n",
       "2     GP   F   15       U     LE3       T     1     1  at_home     other ...   \n",
       "3     GP   F   15       U     GT3       T     4     2   health  services ...   \n",
       "4     GP   F   16       U     GT3       T     3     3    other     other ...   \n",
       "\n",
       "  famrel freetime  goout  Dalc  Walc health absences  G1  G2  G3  \n",
       "0      4        3      4     1     1      3        6   5   6   6  \n",
       "1      5        3      3     1     1      3        4   5   5   6  \n",
       "2      4        3      2     2     3      3       10   7   8  10  \n",
       "3      3        2      2     1     1      5        2  15  14  15  \n",
       "4      4        3      2     1     2      5        4   6  10  10  \n",
       "\n",
       "[5 rows x 33 columns]"
      ]
     },
     "execution_count": 2,
     "metadata": {},
     "output_type": "execute_result"
    }
   ],
   "source": [
    "d_mat = pd.read_csv('student-mat.csv', sep=';')\n",
    "d_mat.head()"
   ]
  },
  {
   "cell_type": "code",
   "execution_count": 3,
   "metadata": {
    "collapsed": false
   },
   "outputs": [
    {
     "data": {
      "text/html": [
       "<div>\n",
       "<table border=\"1\" class=\"dataframe\">\n",
       "  <thead>\n",
       "    <tr style=\"text-align: right;\">\n",
       "      <th></th>\n",
       "      <th>school</th>\n",
       "      <th>sex</th>\n",
       "      <th>age</th>\n",
       "      <th>address</th>\n",
       "      <th>famsize</th>\n",
       "      <th>Pstatus</th>\n",
       "      <th>Medu</th>\n",
       "      <th>Fedu</th>\n",
       "      <th>Mjob</th>\n",
       "      <th>Fjob</th>\n",
       "      <th>...</th>\n",
       "      <th>famrel</th>\n",
       "      <th>freetime</th>\n",
       "      <th>goout</th>\n",
       "      <th>Dalc</th>\n",
       "      <th>Walc</th>\n",
       "      <th>health</th>\n",
       "      <th>absences</th>\n",
       "      <th>G1</th>\n",
       "      <th>G2</th>\n",
       "      <th>G3</th>\n",
       "    </tr>\n",
       "  </thead>\n",
       "  <tbody>\n",
       "    <tr>\n",
       "      <th>0</th>\n",
       "      <td>GP</td>\n",
       "      <td>F</td>\n",
       "      <td>18</td>\n",
       "      <td>U</td>\n",
       "      <td>GT3</td>\n",
       "      <td>A</td>\n",
       "      <td>4</td>\n",
       "      <td>4</td>\n",
       "      <td>at_home</td>\n",
       "      <td>teacher</td>\n",
       "      <td>...</td>\n",
       "      <td>4</td>\n",
       "      <td>3</td>\n",
       "      <td>4</td>\n",
       "      <td>1</td>\n",
       "      <td>1</td>\n",
       "      <td>3</td>\n",
       "      <td>4</td>\n",
       "      <td>0</td>\n",
       "      <td>11</td>\n",
       "      <td>11</td>\n",
       "    </tr>\n",
       "    <tr>\n",
       "      <th>1</th>\n",
       "      <td>GP</td>\n",
       "      <td>F</td>\n",
       "      <td>17</td>\n",
       "      <td>U</td>\n",
       "      <td>GT3</td>\n",
       "      <td>T</td>\n",
       "      <td>1</td>\n",
       "      <td>1</td>\n",
       "      <td>at_home</td>\n",
       "      <td>other</td>\n",
       "      <td>...</td>\n",
       "      <td>5</td>\n",
       "      <td>3</td>\n",
       "      <td>3</td>\n",
       "      <td>1</td>\n",
       "      <td>1</td>\n",
       "      <td>3</td>\n",
       "      <td>2</td>\n",
       "      <td>9</td>\n",
       "      <td>11</td>\n",
       "      <td>11</td>\n",
       "    </tr>\n",
       "    <tr>\n",
       "      <th>2</th>\n",
       "      <td>GP</td>\n",
       "      <td>F</td>\n",
       "      <td>15</td>\n",
       "      <td>U</td>\n",
       "      <td>LE3</td>\n",
       "      <td>T</td>\n",
       "      <td>1</td>\n",
       "      <td>1</td>\n",
       "      <td>at_home</td>\n",
       "      <td>other</td>\n",
       "      <td>...</td>\n",
       "      <td>4</td>\n",
       "      <td>3</td>\n",
       "      <td>2</td>\n",
       "      <td>2</td>\n",
       "      <td>3</td>\n",
       "      <td>3</td>\n",
       "      <td>6</td>\n",
       "      <td>12</td>\n",
       "      <td>13</td>\n",
       "      <td>12</td>\n",
       "    </tr>\n",
       "    <tr>\n",
       "      <th>3</th>\n",
       "      <td>GP</td>\n",
       "      <td>F</td>\n",
       "      <td>15</td>\n",
       "      <td>U</td>\n",
       "      <td>GT3</td>\n",
       "      <td>T</td>\n",
       "      <td>4</td>\n",
       "      <td>2</td>\n",
       "      <td>health</td>\n",
       "      <td>services</td>\n",
       "      <td>...</td>\n",
       "      <td>3</td>\n",
       "      <td>2</td>\n",
       "      <td>2</td>\n",
       "      <td>1</td>\n",
       "      <td>1</td>\n",
       "      <td>5</td>\n",
       "      <td>0</td>\n",
       "      <td>14</td>\n",
       "      <td>14</td>\n",
       "      <td>14</td>\n",
       "    </tr>\n",
       "    <tr>\n",
       "      <th>4</th>\n",
       "      <td>GP</td>\n",
       "      <td>F</td>\n",
       "      <td>16</td>\n",
       "      <td>U</td>\n",
       "      <td>GT3</td>\n",
       "      <td>T</td>\n",
       "      <td>3</td>\n",
       "      <td>3</td>\n",
       "      <td>other</td>\n",
       "      <td>other</td>\n",
       "      <td>...</td>\n",
       "      <td>4</td>\n",
       "      <td>3</td>\n",
       "      <td>2</td>\n",
       "      <td>1</td>\n",
       "      <td>2</td>\n",
       "      <td>5</td>\n",
       "      <td>0</td>\n",
       "      <td>11</td>\n",
       "      <td>13</td>\n",
       "      <td>13</td>\n",
       "    </tr>\n",
       "  </tbody>\n",
       "</table>\n",
       "<p>5 rows × 33 columns</p>\n",
       "</div>"
      ],
      "text/plain": [
       "  school sex  age address famsize Pstatus  Medu  Fedu     Mjob      Fjob ...  \\\n",
       "0     GP   F   18       U     GT3       A     4     4  at_home   teacher ...   \n",
       "1     GP   F   17       U     GT3       T     1     1  at_home     other ...   \n",
       "2     GP   F   15       U     LE3       T     1     1  at_home     other ...   \n",
       "3     GP   F   15       U     GT3       T     4     2   health  services ...   \n",
       "4     GP   F   16       U     GT3       T     3     3    other     other ...   \n",
       "\n",
       "  famrel freetime  goout  Dalc  Walc health absences  G1  G2  G3  \n",
       "0      4        3      4     1     1      3        4   0  11  11  \n",
       "1      5        3      3     1     1      3        2   9  11  11  \n",
       "2      4        3      2     2     3      3        6  12  13  12  \n",
       "3      3        2      2     1     1      5        0  14  14  14  \n",
       "4      4        3      2     1     2      5        0  11  13  13  \n",
       "\n",
       "[5 rows x 33 columns]"
      ]
     },
     "execution_count": 3,
     "metadata": {},
     "output_type": "execute_result"
    }
   ],
   "source": [
    "d_por = pd.read_csv('student-por.csv', sep=';')\n",
    "d_por.head()"
   ]
  },
  {
   "cell_type": "markdown",
   "metadata": {},
   "source": [
    " - Проверьте наличие пропусков. В случае наличия пропусков заполните их медианными значениями (0.4)"
   ]
  },
  {
   "cell_type": "code",
   "execution_count": 34,
   "metadata": {
    "collapsed": false
   },
   "outputs": [
    {
     "name": "stdout",
     "output_type": "stream",
     "text": [
      "Ok\n",
      "Ok\n",
      "Ok\n",
      "Ok\n",
      "Ok\n",
      "Ok\n",
      "Ok\n",
      "Ok\n",
      "Ok\n",
      "Ok\n",
      "Ok\n",
      "Ok\n",
      "Ok\n",
      "Ok\n",
      "Ok\n",
      "Ok\n",
      "Ok\n",
      "Ok\n",
      "Ok\n",
      "Ok\n",
      "Ok\n",
      "Ok\n",
      "Ok\n",
      "Ok\n",
      "Ok\n",
      "Ok\n",
      "Ok\n",
      "Ok\n",
      "Ok\n",
      "Ok\n",
      "Ok\n",
      "Ok\n",
      "Ok\n"
     ]
    }
   ],
   "source": [
    "d_mat = d_mat.dropna()\n",
    "for column in d_mat.columns:\n",
    "    null = len(d_mat[d_mat[column].isnull()])\n",
    "    if null > 0:\n",
    "        print (column, NULL)\n",
    "    else:\n",
    "        print ('Ok')"
   ]
  },
  {
   "cell_type": "markdown",
   "metadata": {},
   "source": [
    "Пропусков в данных нет!"
   ]
  },
  {
   "cell_type": "markdown",
   "metadata": {},
   "source": [
    " - Преобразуйте все номинальные признаки в несколько признаков с бинарным значение (0.4)"
   ]
  },
  {
   "cell_type": "markdown",
   "metadata": {},
   "source": [
    "Разделим признаки и целевую зависимость в две отдельные переменные X и y"
   ]
  },
  {
   "cell_type": "code",
   "execution_count": 20,
   "metadata": {
    "collapsed": true
   },
   "outputs": [],
   "source": [
    "y = d_mat['G3']\n",
    "X = d_mat.drop('G3', axis=1)"
   ]
  },
  {
   "cell_type": "markdown",
   "metadata": {},
   "source": [
    "датасет без категориальных признаков:"
   ]
  },
  {
   "cell_type": "code",
   "execution_count": 21,
   "metadata": {
    "collapsed": false
   },
   "outputs": [
    {
     "data": {
      "text/html": [
       "<div>\n",
       "<table border=\"1\" class=\"dataframe\">\n",
       "  <thead>\n",
       "    <tr style=\"text-align: right;\">\n",
       "      <th></th>\n",
       "      <th>age</th>\n",
       "      <th>Medu</th>\n",
       "      <th>Fedu</th>\n",
       "      <th>traveltime</th>\n",
       "      <th>studytime</th>\n",
       "      <th>failures</th>\n",
       "      <th>famrel</th>\n",
       "      <th>freetime</th>\n",
       "      <th>goout</th>\n",
       "      <th>Dalc</th>\n",
       "      <th>Walc</th>\n",
       "      <th>health</th>\n",
       "      <th>absences</th>\n",
       "      <th>G1</th>\n",
       "      <th>G2</th>\n",
       "    </tr>\n",
       "  </thead>\n",
       "  <tbody>\n",
       "    <tr>\n",
       "      <th>0</th>\n",
       "      <td>18</td>\n",
       "      <td>4</td>\n",
       "      <td>4</td>\n",
       "      <td>2</td>\n",
       "      <td>2</td>\n",
       "      <td>0</td>\n",
       "      <td>4</td>\n",
       "      <td>3</td>\n",
       "      <td>4</td>\n",
       "      <td>1</td>\n",
       "      <td>1</td>\n",
       "      <td>3</td>\n",
       "      <td>6</td>\n",
       "      <td>5</td>\n",
       "      <td>6</td>\n",
       "    </tr>\n",
       "    <tr>\n",
       "      <th>1</th>\n",
       "      <td>17</td>\n",
       "      <td>1</td>\n",
       "      <td>1</td>\n",
       "      <td>1</td>\n",
       "      <td>2</td>\n",
       "      <td>0</td>\n",
       "      <td>5</td>\n",
       "      <td>3</td>\n",
       "      <td>3</td>\n",
       "      <td>1</td>\n",
       "      <td>1</td>\n",
       "      <td>3</td>\n",
       "      <td>4</td>\n",
       "      <td>5</td>\n",
       "      <td>5</td>\n",
       "    </tr>\n",
       "    <tr>\n",
       "      <th>2</th>\n",
       "      <td>15</td>\n",
       "      <td>1</td>\n",
       "      <td>1</td>\n",
       "      <td>1</td>\n",
       "      <td>2</td>\n",
       "      <td>3</td>\n",
       "      <td>4</td>\n",
       "      <td>3</td>\n",
       "      <td>2</td>\n",
       "      <td>2</td>\n",
       "      <td>3</td>\n",
       "      <td>3</td>\n",
       "      <td>10</td>\n",
       "      <td>7</td>\n",
       "      <td>8</td>\n",
       "    </tr>\n",
       "    <tr>\n",
       "      <th>3</th>\n",
       "      <td>15</td>\n",
       "      <td>4</td>\n",
       "      <td>2</td>\n",
       "      <td>1</td>\n",
       "      <td>3</td>\n",
       "      <td>0</td>\n",
       "      <td>3</td>\n",
       "      <td>2</td>\n",
       "      <td>2</td>\n",
       "      <td>1</td>\n",
       "      <td>1</td>\n",
       "      <td>5</td>\n",
       "      <td>2</td>\n",
       "      <td>15</td>\n",
       "      <td>14</td>\n",
       "    </tr>\n",
       "    <tr>\n",
       "      <th>4</th>\n",
       "      <td>16</td>\n",
       "      <td>3</td>\n",
       "      <td>3</td>\n",
       "      <td>1</td>\n",
       "      <td>2</td>\n",
       "      <td>0</td>\n",
       "      <td>4</td>\n",
       "      <td>3</td>\n",
       "      <td>2</td>\n",
       "      <td>1</td>\n",
       "      <td>2</td>\n",
       "      <td>5</td>\n",
       "      <td>4</td>\n",
       "      <td>6</td>\n",
       "      <td>10</td>\n",
       "    </tr>\n",
       "  </tbody>\n",
       "</table>\n",
       "</div>"
      ],
      "text/plain": [
       "   age  Medu  Fedu  traveltime  studytime  failures  famrel  freetime  goout  \\\n",
       "0   18     4     4           2          2         0       4         3      4   \n",
       "1   17     1     1           1          2         0       5         3      3   \n",
       "2   15     1     1           1          2         3       4         3      2   \n",
       "3   15     4     2           1          3         0       3         2      2   \n",
       "4   16     3     3           1          2         0       4         3      2   \n",
       "\n",
       "   Dalc  Walc  health  absences  G1  G2  \n",
       "0     1     1       3         6   5   6  \n",
       "1     1     1       3         4   5   5  \n",
       "2     2     3       3        10   7   8  \n",
       "3     1     1       5         2  15  14  \n",
       "4     1     2       5         4   6  10  "
      ]
     },
     "execution_count": 21,
     "metadata": {},
     "output_type": "execute_result"
    }
   ],
   "source": [
    "X_num = X.select_dtypes(exclude=['object'])\n",
    "X_num.head()"
   ]
  },
  {
   "cell_type": "markdown",
   "metadata": {},
   "source": [
    "датасет с категориальными признаками:"
   ]
  },
  {
   "cell_type": "code",
   "execution_count": 22,
   "metadata": {
    "collapsed": false
   },
   "outputs": [
    {
     "data": {
      "text/html": [
       "<div>\n",
       "<table border=\"1\" class=\"dataframe\">\n",
       "  <thead>\n",
       "    <tr style=\"text-align: right;\">\n",
       "      <th></th>\n",
       "      <th>school</th>\n",
       "      <th>sex</th>\n",
       "      <th>address</th>\n",
       "      <th>famsize</th>\n",
       "      <th>Pstatus</th>\n",
       "      <th>Mjob</th>\n",
       "      <th>Fjob</th>\n",
       "      <th>reason</th>\n",
       "      <th>guardian</th>\n",
       "      <th>schoolsup</th>\n",
       "      <th>famsup</th>\n",
       "      <th>paid</th>\n",
       "      <th>activities</th>\n",
       "      <th>nursery</th>\n",
       "      <th>higher</th>\n",
       "      <th>internet</th>\n",
       "      <th>romantic</th>\n",
       "    </tr>\n",
       "  </thead>\n",
       "  <tbody>\n",
       "    <tr>\n",
       "      <th>0</th>\n",
       "      <td>GP</td>\n",
       "      <td>F</td>\n",
       "      <td>U</td>\n",
       "      <td>GT3</td>\n",
       "      <td>A</td>\n",
       "      <td>at_home</td>\n",
       "      <td>teacher</td>\n",
       "      <td>course</td>\n",
       "      <td>mother</td>\n",
       "      <td>yes</td>\n",
       "      <td>no</td>\n",
       "      <td>no</td>\n",
       "      <td>no</td>\n",
       "      <td>yes</td>\n",
       "      <td>yes</td>\n",
       "      <td>no</td>\n",
       "      <td>no</td>\n",
       "    </tr>\n",
       "    <tr>\n",
       "      <th>1</th>\n",
       "      <td>GP</td>\n",
       "      <td>F</td>\n",
       "      <td>U</td>\n",
       "      <td>GT3</td>\n",
       "      <td>T</td>\n",
       "      <td>at_home</td>\n",
       "      <td>other</td>\n",
       "      <td>course</td>\n",
       "      <td>father</td>\n",
       "      <td>no</td>\n",
       "      <td>yes</td>\n",
       "      <td>no</td>\n",
       "      <td>no</td>\n",
       "      <td>no</td>\n",
       "      <td>yes</td>\n",
       "      <td>yes</td>\n",
       "      <td>no</td>\n",
       "    </tr>\n",
       "    <tr>\n",
       "      <th>2</th>\n",
       "      <td>GP</td>\n",
       "      <td>F</td>\n",
       "      <td>U</td>\n",
       "      <td>LE3</td>\n",
       "      <td>T</td>\n",
       "      <td>at_home</td>\n",
       "      <td>other</td>\n",
       "      <td>other</td>\n",
       "      <td>mother</td>\n",
       "      <td>yes</td>\n",
       "      <td>no</td>\n",
       "      <td>yes</td>\n",
       "      <td>no</td>\n",
       "      <td>yes</td>\n",
       "      <td>yes</td>\n",
       "      <td>yes</td>\n",
       "      <td>no</td>\n",
       "    </tr>\n",
       "    <tr>\n",
       "      <th>3</th>\n",
       "      <td>GP</td>\n",
       "      <td>F</td>\n",
       "      <td>U</td>\n",
       "      <td>GT3</td>\n",
       "      <td>T</td>\n",
       "      <td>health</td>\n",
       "      <td>services</td>\n",
       "      <td>home</td>\n",
       "      <td>mother</td>\n",
       "      <td>no</td>\n",
       "      <td>yes</td>\n",
       "      <td>yes</td>\n",
       "      <td>yes</td>\n",
       "      <td>yes</td>\n",
       "      <td>yes</td>\n",
       "      <td>yes</td>\n",
       "      <td>yes</td>\n",
       "    </tr>\n",
       "    <tr>\n",
       "      <th>4</th>\n",
       "      <td>GP</td>\n",
       "      <td>F</td>\n",
       "      <td>U</td>\n",
       "      <td>GT3</td>\n",
       "      <td>T</td>\n",
       "      <td>other</td>\n",
       "      <td>other</td>\n",
       "      <td>home</td>\n",
       "      <td>father</td>\n",
       "      <td>no</td>\n",
       "      <td>yes</td>\n",
       "      <td>yes</td>\n",
       "      <td>no</td>\n",
       "      <td>yes</td>\n",
       "      <td>yes</td>\n",
       "      <td>no</td>\n",
       "      <td>no</td>\n",
       "    </tr>\n",
       "  </tbody>\n",
       "</table>\n",
       "</div>"
      ],
      "text/plain": [
       "  school sex address famsize Pstatus     Mjob      Fjob  reason guardian  \\\n",
       "0     GP   F       U     GT3       A  at_home   teacher  course   mother   \n",
       "1     GP   F       U     GT3       T  at_home     other  course   father   \n",
       "2     GP   F       U     LE3       T  at_home     other   other   mother   \n",
       "3     GP   F       U     GT3       T   health  services    home   mother   \n",
       "4     GP   F       U     GT3       T    other     other    home   father   \n",
       "\n",
       "  schoolsup famsup paid activities nursery higher internet romantic  \n",
       "0       yes     no   no         no     yes    yes       no       no  \n",
       "1        no    yes   no         no      no    yes      yes       no  \n",
       "2       yes     no  yes         no     yes    yes      yes       no  \n",
       "3        no    yes  yes        yes     yes    yes      yes      yes  \n",
       "4        no    yes  yes         no     yes    yes       no       no  "
      ]
     },
     "execution_count": 22,
     "metadata": {},
     "output_type": "execute_result"
    }
   ],
   "source": [
    "X_non_num = X.select_dtypes(include=['object'])\n",
    "X_non_num.head()"
   ]
  },
  {
   "cell_type": "markdown",
   "metadata": {},
   "source": [
    "Преобразование категориальных в бинарные:"
   ]
  },
  {
   "cell_type": "code",
   "execution_count": 23,
   "metadata": {
    "collapsed": false
   },
   "outputs": [
    {
     "data": {
      "text/html": [
       "<div>\n",
       "<table border=\"1\" class=\"dataframe\">\n",
       "  <thead>\n",
       "    <tr style=\"text-align: right;\">\n",
       "      <th></th>\n",
       "      <th>school_GP</th>\n",
       "      <th>school_MS</th>\n",
       "      <th>sex_F</th>\n",
       "      <th>sex_M</th>\n",
       "      <th>address_R</th>\n",
       "      <th>address_U</th>\n",
       "      <th>famsize_GT3</th>\n",
       "      <th>famsize_LE3</th>\n",
       "      <th>Pstatus_A</th>\n",
       "      <th>Pstatus_T</th>\n",
       "      <th>...</th>\n",
       "      <th>activities_no</th>\n",
       "      <th>activities_yes</th>\n",
       "      <th>nursery_no</th>\n",
       "      <th>nursery_yes</th>\n",
       "      <th>higher_no</th>\n",
       "      <th>higher_yes</th>\n",
       "      <th>internet_no</th>\n",
       "      <th>internet_yes</th>\n",
       "      <th>romantic_no</th>\n",
       "      <th>romantic_yes</th>\n",
       "    </tr>\n",
       "  </thead>\n",
       "  <tbody>\n",
       "    <tr>\n",
       "      <th>0</th>\n",
       "      <td>1.0</td>\n",
       "      <td>0.0</td>\n",
       "      <td>1.0</td>\n",
       "      <td>0.0</td>\n",
       "      <td>0.0</td>\n",
       "      <td>1.0</td>\n",
       "      <td>1.0</td>\n",
       "      <td>0.0</td>\n",
       "      <td>1.0</td>\n",
       "      <td>0.0</td>\n",
       "      <td>...</td>\n",
       "      <td>1.0</td>\n",
       "      <td>0.0</td>\n",
       "      <td>0.0</td>\n",
       "      <td>1.0</td>\n",
       "      <td>0.0</td>\n",
       "      <td>1.0</td>\n",
       "      <td>1.0</td>\n",
       "      <td>0.0</td>\n",
       "      <td>1.0</td>\n",
       "      <td>0.0</td>\n",
       "    </tr>\n",
       "    <tr>\n",
       "      <th>1</th>\n",
       "      <td>1.0</td>\n",
       "      <td>0.0</td>\n",
       "      <td>1.0</td>\n",
       "      <td>0.0</td>\n",
       "      <td>0.0</td>\n",
       "      <td>1.0</td>\n",
       "      <td>1.0</td>\n",
       "      <td>0.0</td>\n",
       "      <td>0.0</td>\n",
       "      <td>1.0</td>\n",
       "      <td>...</td>\n",
       "      <td>1.0</td>\n",
       "      <td>0.0</td>\n",
       "      <td>1.0</td>\n",
       "      <td>0.0</td>\n",
       "      <td>0.0</td>\n",
       "      <td>1.0</td>\n",
       "      <td>0.0</td>\n",
       "      <td>1.0</td>\n",
       "      <td>1.0</td>\n",
       "      <td>0.0</td>\n",
       "    </tr>\n",
       "    <tr>\n",
       "      <th>2</th>\n",
       "      <td>1.0</td>\n",
       "      <td>0.0</td>\n",
       "      <td>1.0</td>\n",
       "      <td>0.0</td>\n",
       "      <td>0.0</td>\n",
       "      <td>1.0</td>\n",
       "      <td>0.0</td>\n",
       "      <td>1.0</td>\n",
       "      <td>0.0</td>\n",
       "      <td>1.0</td>\n",
       "      <td>...</td>\n",
       "      <td>1.0</td>\n",
       "      <td>0.0</td>\n",
       "      <td>0.0</td>\n",
       "      <td>1.0</td>\n",
       "      <td>0.0</td>\n",
       "      <td>1.0</td>\n",
       "      <td>0.0</td>\n",
       "      <td>1.0</td>\n",
       "      <td>1.0</td>\n",
       "      <td>0.0</td>\n",
       "    </tr>\n",
       "    <tr>\n",
       "      <th>3</th>\n",
       "      <td>1.0</td>\n",
       "      <td>0.0</td>\n",
       "      <td>1.0</td>\n",
       "      <td>0.0</td>\n",
       "      <td>0.0</td>\n",
       "      <td>1.0</td>\n",
       "      <td>1.0</td>\n",
       "      <td>0.0</td>\n",
       "      <td>0.0</td>\n",
       "      <td>1.0</td>\n",
       "      <td>...</td>\n",
       "      <td>0.0</td>\n",
       "      <td>1.0</td>\n",
       "      <td>0.0</td>\n",
       "      <td>1.0</td>\n",
       "      <td>0.0</td>\n",
       "      <td>1.0</td>\n",
       "      <td>0.0</td>\n",
       "      <td>1.0</td>\n",
       "      <td>0.0</td>\n",
       "      <td>1.0</td>\n",
       "    </tr>\n",
       "    <tr>\n",
       "      <th>4</th>\n",
       "      <td>1.0</td>\n",
       "      <td>0.0</td>\n",
       "      <td>1.0</td>\n",
       "      <td>0.0</td>\n",
       "      <td>0.0</td>\n",
       "      <td>1.0</td>\n",
       "      <td>1.0</td>\n",
       "      <td>0.0</td>\n",
       "      <td>0.0</td>\n",
       "      <td>1.0</td>\n",
       "      <td>...</td>\n",
       "      <td>1.0</td>\n",
       "      <td>0.0</td>\n",
       "      <td>0.0</td>\n",
       "      <td>1.0</td>\n",
       "      <td>0.0</td>\n",
       "      <td>1.0</td>\n",
       "      <td>1.0</td>\n",
       "      <td>0.0</td>\n",
       "      <td>1.0</td>\n",
       "      <td>0.0</td>\n",
       "    </tr>\n",
       "  </tbody>\n",
       "</table>\n",
       "<p>5 rows × 43 columns</p>\n",
       "</div>"
      ],
      "text/plain": [
       "   school_GP  school_MS  sex_F  sex_M  address_R  address_U  famsize_GT3  \\\n",
       "0        1.0        0.0    1.0    0.0        0.0        1.0          1.0   \n",
       "1        1.0        0.0    1.0    0.0        0.0        1.0          1.0   \n",
       "2        1.0        0.0    1.0    0.0        0.0        1.0          0.0   \n",
       "3        1.0        0.0    1.0    0.0        0.0        1.0          1.0   \n",
       "4        1.0        0.0    1.0    0.0        0.0        1.0          1.0   \n",
       "\n",
       "   famsize_LE3  Pstatus_A  Pstatus_T      ...       activities_no  \\\n",
       "0          0.0        1.0        0.0      ...                 1.0   \n",
       "1          0.0        0.0        1.0      ...                 1.0   \n",
       "2          1.0        0.0        1.0      ...                 1.0   \n",
       "3          0.0        0.0        1.0      ...                 0.0   \n",
       "4          0.0        0.0        1.0      ...                 1.0   \n",
       "\n",
       "   activities_yes  nursery_no  nursery_yes  higher_no  higher_yes  \\\n",
       "0             0.0         0.0          1.0        0.0         1.0   \n",
       "1             0.0         1.0          0.0        0.0         1.0   \n",
       "2             0.0         0.0          1.0        0.0         1.0   \n",
       "3             1.0         0.0          1.0        0.0         1.0   \n",
       "4             0.0         0.0          1.0        0.0         1.0   \n",
       "\n",
       "   internet_no  internet_yes  romantic_no  romantic_yes  \n",
       "0          1.0           0.0          1.0           0.0  \n",
       "1          0.0           1.0          1.0           0.0  \n",
       "2          0.0           1.0          1.0           0.0  \n",
       "3          0.0           1.0          0.0           1.0  \n",
       "4          1.0           0.0          1.0           0.0  \n",
       "\n",
       "[5 rows x 43 columns]"
      ]
     },
     "execution_count": 23,
     "metadata": {},
     "output_type": "execute_result"
    }
   ],
   "source": [
    "binom = pd.get_dummies(X_non_num)\n",
    "binom.head()"
   ]
  },
  {
   "cell_type": "markdown",
   "metadata": {},
   "source": [
    "Объединим все в один датасет:"
   ]
  },
  {
   "cell_type": "code",
   "execution_count": 24,
   "metadata": {
    "collapsed": false
   },
   "outputs": [
    {
     "data": {
      "text/html": [
       "<div>\n",
       "<table border=\"1\" class=\"dataframe\">\n",
       "  <thead>\n",
       "    <tr style=\"text-align: right;\">\n",
       "      <th></th>\n",
       "      <th>age</th>\n",
       "      <th>Medu</th>\n",
       "      <th>Fedu</th>\n",
       "      <th>traveltime</th>\n",
       "      <th>studytime</th>\n",
       "      <th>failures</th>\n",
       "      <th>famrel</th>\n",
       "      <th>freetime</th>\n",
       "      <th>goout</th>\n",
       "      <th>Dalc</th>\n",
       "      <th>...</th>\n",
       "      <th>activities_no</th>\n",
       "      <th>activities_yes</th>\n",
       "      <th>nursery_no</th>\n",
       "      <th>nursery_yes</th>\n",
       "      <th>higher_no</th>\n",
       "      <th>higher_yes</th>\n",
       "      <th>internet_no</th>\n",
       "      <th>internet_yes</th>\n",
       "      <th>romantic_no</th>\n",
       "      <th>romantic_yes</th>\n",
       "    </tr>\n",
       "  </thead>\n",
       "  <tbody>\n",
       "    <tr>\n",
       "      <th>0</th>\n",
       "      <td>18</td>\n",
       "      <td>4</td>\n",
       "      <td>4</td>\n",
       "      <td>2</td>\n",
       "      <td>2</td>\n",
       "      <td>0</td>\n",
       "      <td>4</td>\n",
       "      <td>3</td>\n",
       "      <td>4</td>\n",
       "      <td>1</td>\n",
       "      <td>...</td>\n",
       "      <td>1.0</td>\n",
       "      <td>0.0</td>\n",
       "      <td>0.0</td>\n",
       "      <td>1.0</td>\n",
       "      <td>0.0</td>\n",
       "      <td>1.0</td>\n",
       "      <td>1.0</td>\n",
       "      <td>0.0</td>\n",
       "      <td>1.0</td>\n",
       "      <td>0.0</td>\n",
       "    </tr>\n",
       "    <tr>\n",
       "      <th>1</th>\n",
       "      <td>17</td>\n",
       "      <td>1</td>\n",
       "      <td>1</td>\n",
       "      <td>1</td>\n",
       "      <td>2</td>\n",
       "      <td>0</td>\n",
       "      <td>5</td>\n",
       "      <td>3</td>\n",
       "      <td>3</td>\n",
       "      <td>1</td>\n",
       "      <td>...</td>\n",
       "      <td>1.0</td>\n",
       "      <td>0.0</td>\n",
       "      <td>1.0</td>\n",
       "      <td>0.0</td>\n",
       "      <td>0.0</td>\n",
       "      <td>1.0</td>\n",
       "      <td>0.0</td>\n",
       "      <td>1.0</td>\n",
       "      <td>1.0</td>\n",
       "      <td>0.0</td>\n",
       "    </tr>\n",
       "    <tr>\n",
       "      <th>2</th>\n",
       "      <td>15</td>\n",
       "      <td>1</td>\n",
       "      <td>1</td>\n",
       "      <td>1</td>\n",
       "      <td>2</td>\n",
       "      <td>3</td>\n",
       "      <td>4</td>\n",
       "      <td>3</td>\n",
       "      <td>2</td>\n",
       "      <td>2</td>\n",
       "      <td>...</td>\n",
       "      <td>1.0</td>\n",
       "      <td>0.0</td>\n",
       "      <td>0.0</td>\n",
       "      <td>1.0</td>\n",
       "      <td>0.0</td>\n",
       "      <td>1.0</td>\n",
       "      <td>0.0</td>\n",
       "      <td>1.0</td>\n",
       "      <td>1.0</td>\n",
       "      <td>0.0</td>\n",
       "    </tr>\n",
       "    <tr>\n",
       "      <th>3</th>\n",
       "      <td>15</td>\n",
       "      <td>4</td>\n",
       "      <td>2</td>\n",
       "      <td>1</td>\n",
       "      <td>3</td>\n",
       "      <td>0</td>\n",
       "      <td>3</td>\n",
       "      <td>2</td>\n",
       "      <td>2</td>\n",
       "      <td>1</td>\n",
       "      <td>...</td>\n",
       "      <td>0.0</td>\n",
       "      <td>1.0</td>\n",
       "      <td>0.0</td>\n",
       "      <td>1.0</td>\n",
       "      <td>0.0</td>\n",
       "      <td>1.0</td>\n",
       "      <td>0.0</td>\n",
       "      <td>1.0</td>\n",
       "      <td>0.0</td>\n",
       "      <td>1.0</td>\n",
       "    </tr>\n",
       "    <tr>\n",
       "      <th>4</th>\n",
       "      <td>16</td>\n",
       "      <td>3</td>\n",
       "      <td>3</td>\n",
       "      <td>1</td>\n",
       "      <td>2</td>\n",
       "      <td>0</td>\n",
       "      <td>4</td>\n",
       "      <td>3</td>\n",
       "      <td>2</td>\n",
       "      <td>1</td>\n",
       "      <td>...</td>\n",
       "      <td>1.0</td>\n",
       "      <td>0.0</td>\n",
       "      <td>0.0</td>\n",
       "      <td>1.0</td>\n",
       "      <td>0.0</td>\n",
       "      <td>1.0</td>\n",
       "      <td>1.0</td>\n",
       "      <td>0.0</td>\n",
       "      <td>1.0</td>\n",
       "      <td>0.0</td>\n",
       "    </tr>\n",
       "  </tbody>\n",
       "</table>\n",
       "<p>5 rows × 58 columns</p>\n",
       "</div>"
      ],
      "text/plain": [
       "   age  Medu  Fedu  traveltime  studytime  failures  famrel  freetime  goout  \\\n",
       "0   18     4     4           2          2         0       4         3      4   \n",
       "1   17     1     1           1          2         0       5         3      3   \n",
       "2   15     1     1           1          2         3       4         3      2   \n",
       "3   15     4     2           1          3         0       3         2      2   \n",
       "4   16     3     3           1          2         0       4         3      2   \n",
       "\n",
       "   Dalc      ...       activities_no  activities_yes  nursery_no  nursery_yes  \\\n",
       "0     1      ...                 1.0             0.0         0.0          1.0   \n",
       "1     1      ...                 1.0             0.0         1.0          0.0   \n",
       "2     2      ...                 1.0             0.0         0.0          1.0   \n",
       "3     1      ...                 0.0             1.0         0.0          1.0   \n",
       "4     1      ...                 1.0             0.0         0.0          1.0   \n",
       "\n",
       "   higher_no  higher_yes  internet_no  internet_yes  romantic_no  romantic_yes  \n",
       "0        0.0         1.0          1.0           0.0          1.0           0.0  \n",
       "1        0.0         1.0          0.0           1.0          1.0           0.0  \n",
       "2        0.0         1.0          0.0           1.0          1.0           0.0  \n",
       "3        0.0         1.0          0.0           1.0          0.0           1.0  \n",
       "4        0.0         1.0          1.0           0.0          1.0           0.0  \n",
       "\n",
       "[5 rows x 58 columns]"
      ]
     },
     "execution_count": 24,
     "metadata": {},
     "output_type": "execute_result"
    }
   ],
   "source": [
    "X_all = pd.concat([X_num, binom], axis=1)\n",
    "X_all.head()"
   ]
  },
  {
   "cell_type": "markdown",
   "metadata": {},
   "source": [
    "- Подсчитайте количество людей, у которых матери с образованием \"0\" (0.4)"
   ]
  },
  {
   "cell_type": "code",
   "execution_count": 35,
   "metadata": {
    "collapsed": false
   },
   "outputs": [
    {
     "name": "stdout",
     "output_type": "stream",
     "text": [
      "('\\xd0\\x9a\\xd0\\xbe\\xd0\\xbb\\xd0\\xb8\\xd1\\x87\\xd0\\xb5\\xd1\\x81\\xd1\\x82\\xd0\\xb2\\xd0\\xbe \\xd0\\xbb\\xd1\\x8e\\xd0\\xb4\\xd0\\xb5\\xd0\\xb9, \\xd1\\x83 \\xd0\\xba\\xd0\\xbe\\xd1\\x82\\xd0\\xbe\\xd1\\x80\\xd1\\x8b\\xd1\\x85 \\xd0\\xbc\\xd0\\xb0\\xd1\\x82\\xd0\\xb5\\xd1\\x80\\xd0\\xb8 \\xd0\\xb1\\xd0\\xb5\\xd0\\xb7 \\xd0\\xbe\\xd0\\xb1\\xd1\\x80\\xd0\\xb0\\xd0\\xb7\\xd0\\xbe\\xd0\\xb2\\xd0\\xb0\\xd0\\xbd\\xd0\\xb8\\xd1\\x8f', 3)\n"
     ]
    }
   ],
   "source": [
    "a=d_mat[d_mat['Medu'] == 0].shape[0]\n",
    "print('Количество людей, у которых матери без образования', a)"
   ]
  },
  {
   "cell_type": "markdown",
   "metadata": {},
   "source": [
    "- Используя объект [SelectKBest](http://scikit-learn.org/stable/modules/generated/sklearn.feature_selection.SelectKBest.html#sklearn.feature_selection.SelectKBest) с параметром [f_regression](http://scikit-learn.org/stable/modules/generated/sklearn.feature_selection.f_regression.html#sklearn.feature_selection.f_regression)  выберите два признака, которые наиболее сильно связаны с признаком G3 (0.5)"
   ]
  },
  {
   "cell_type": "code",
   "execution_count": 43,
   "metadata": {
    "collapsed": false
   },
   "outputs": [
    {
     "name": "stdout",
     "output_type": "stream",
     "text": [
      "('G1', 'G2')\n"
     ]
    }
   ],
   "source": [
    "selector = SelectKBest(f_regression, k = 2)\n",
    "bestfeatures = pd.DataFrame(selector.fit_transform(X_all,y))\n",
    "feature_1=X_all.columns.values[selector.get_support()][0]\n",
    "feature_2=X_all.columns.values[selector.get_support()][1]\n",
    "print(feature_1,feature_2)"
   ]
  },
  {
   "cell_type": "markdown",
   "metadata": {},
   "source": [
    "Получаем, что предыдущие оценки наиболее сильно связаны с итоговой. Это мало что говорит нам о признаках, поэтому удалим G1 и G2 и посмотрим связь остальных признаков с итоговой оценкой. "
   ]
  },
  {
   "cell_type": "code",
   "execution_count": 44,
   "metadata": {
    "collapsed": false
   },
   "outputs": [
    {
     "name": "stdout",
     "output_type": "stream",
     "text": [
      "('Medu', 'failures')\n"
     ]
    }
   ],
   "source": [
    "X_new = X_all.drop('G1', axis=1)\n",
    "X_new = X_new.drop('G2', axis=1)\n",
    "selector = SelectKBest(f_regression, k = 2)\n",
    "bestfeatures = pd.DataFrame(selector.fit_transform(X_new,y))\n",
    "feature_1=X_new.columns.values[selector.get_support()][0]\n",
    "feature_2=X_new.columns.values[selector.get_support()][1]\n",
    "print(feature_1,feature_2)"
   ]
  },
  {
   "cell_type": "markdown",
   "metadata": {},
   "source": [
    "### Регрессия (Max 4)\n",
    "Выберите один признак, который наиболее влияет на признак G3 и используя кросс-валидацию (cross-validation) выполните следующее:"
   ]
  },
  {
   "cell_type": "markdown",
   "metadata": {},
   "source": [
    "В предыдущем задании мы нашли, что признаки Medu и feilures сильнее всего связаны с итоговой оценкой. Чтобы понять, какой из этих двух признаков оказывается наиболее сильное влияние посмотрим, как признаки коррелируют с целевой переменной."
   ]
  },
  {
   "cell_type": "code",
   "execution_count": 45,
   "metadata": {
    "collapsed": false
   },
   "outputs": [
    {
     "name": "stdout",
     "output_type": "stream",
     "text": [
      "('failures', -0.36041494046165012)\n",
      "('Medu', 0.21714749613860584)\n"
     ]
    }
   ],
   "source": [
    "d_mat_new = d_mat.drop('G1', axis=1)\n",
    "d_mat_new = d_mat_new.drop('G2', axis=1)\n",
    "corr = d_mat_new.corr('pearson')['G3']\n",
    "print('failures',corr['failures'])\n",
    "print('Medu',corr['Medu'])"
   ]
  },
  {
   "cell_type": "markdown",
   "metadata": {},
   "source": [
    "Сильнее коррелирует fealures, значит его влияние на G3 сильнее. "
   ]
  },
  {
   "cell_type": "markdown",
   "metadata": {},
   "source": [
    "- На обучающей выборке обучите объект [RidgeСV](http://scikit-learn.org/stable/modules/generated/sklearn.linear_model.RidgeCV.html#sklearn.linear_model.RidgeCV) для различных alpha (0.2)\n",
    "- Выберите alpha при котором RidgeCV лучше всего предсказывает значения (0.1)\n",
    "- Подсчитайте метрику mean absolute error, mean squared error, median absolute error,r2 score(0.2)\n",
    "- Max (0.5)"
   ]
  },
  {
   "cell_type": "code",
   "execution_count": 53,
   "metadata": {
    "collapsed": true
   },
   "outputs": [],
   "source": [
    "from sklearn.linear_model import RidgeCV,LinearRegression, Lasso, Ridge,SGDRegressor\n",
    "from sklearn.grid_search import GridSearchCV\n",
    "from sklearn.cross_validation import KFold, train_test_split,cross_val_score\n",
    "from sklearn.metrics import mean_squared_error,median_absolute_error, mean_absolute_error,r2_score\n",
    "from sklearn.ensemble import GradientBoostingRegressor"
   ]
  },
  {
   "cell_type": "code",
   "execution_count": 54,
   "metadata": {
    "collapsed": true
   },
   "outputs": [],
   "source": [
    "kfold = KFold(X_num.shape[0], n_folds=5, shuffle=True, random_state=14)"
   ]
  },
  {
   "cell_type": "markdown",
   "metadata": {},
   "source": [
    "На обучающей выборке обучите объект RidgeСV для различных alpha"
   ]
  },
  {
   "cell_type": "code",
   "execution_count": null,
   "metadata": {
    "collapsed": true
   },
   "outputs": [],
   "source": [
    "RrCV = RidgeCV(alphas=(0.1, 1.0, 10.0))\n",
    "RrCV.fit(X_train, y_train)"
   ]
  },
  {
   "cell_type": "markdown",
   "metadata": {},
   "source": [
    "Выберите alpha при котором RidgeCV лучше всего предсказывает значения"
   ]
  },
  {
   "cell_type": "code",
   "execution_count": 84,
   "metadata": {
    "collapsed": true
   },
   "outputs": [],
   "source": [
    "def rmse_alpha(r_class, alphas):\n",
    "    cv_rmse = []\n",
    "    for alpha in range (len(alphas)):\n",
    "        r = r_class(alphas=alphas, store_cv_values = True)\n",
    "        r.fit(X_train, y_train)\n",
    "        cv_rmse.append(r.cv_values_[:,alpha].mean())\n",
    "    print('alpha:', alphas[cv_rmse.index(np.min(cv_rmse))])"
   ]
  },
  {
   "cell_type": "code",
   "execution_count": 85,
   "metadata": {
    "collapsed": false
   },
   "outputs": [
    {
     "name": "stdout",
     "output_type": "stream",
     "text": [
      "('alpha:', 6)\n"
     ]
    }
   ],
   "source": [
    "rmse_alpha(RidgeCV, np.arange(1, 10, 1))"
   ]
  },
  {
   "cell_type": "markdown",
   "metadata": {},
   "source": [
    "Подсчитайте метрику mean absolute error, mean squared error, median absolute error,r2 score"
   ]
  },
  {
   "cell_type": "code",
   "execution_count": 86,
   "metadata": {
    "collapsed": false
   },
   "outputs": [
    {
     "name": "stdout",
     "output_type": "stream",
     "text": [
      "('R2 score:', 0.16073735687078206)\n",
      "('MAE:', 3.349626652902288)\n",
      "('MSE:', 20.379787464546222)\n",
      "('MedAE:', 2.9165518666482892)\n"
     ]
    }
   ],
   "source": [
    "alpha=np.arange(1, 100, 1)\n",
    "\n",
    "ridge=RidgeCV(alphas=alpha).fit(X_train, y_train)\n",
    "y_pred=ridge.predict(X_test)\n",
    "\n",
    "print ('R2 score:',r2_score(y_test,y_pred)) \n",
    "print('MAE:',mean_absolute_error(y_test, y_pred))\n",
    "print('MSE:',mean_squared_error(y_test, y_pred))\n",
    "print('MedAE:',median_absolute_error(y_test, y_pred))"
   ]
  },
  {
   "cell_type": "markdown",
   "metadata": {},
   "source": [
    "- Создайте объекты [SGDRegressor](http://scikit-learn.org/stable/modules/generated/sklearn.linear_model.SGDRegressor.html#sklearn.linear_model.SGDRegressor), используя все возможных варианты аргумента penalty (0.2)\n",
    "- Обучите все полученных объекты на обучающей выборке (0.1)\n",
    "- Подсчитайте метрику r2 score для всех объектов (0.2)\n",
    "- Max (0.5)"
   ]
  },
  {
   "cell_type": "markdown",
   "metadata": {},
   "source": [
    "Создайте объекты SGDRegressor, используя все возможных варианты аргумента penalty"
   ]
  },
  {
   "cell_type": "code",
   "execution_count": 93,
   "metadata": {
    "collapsed": false
   },
   "outputs": [],
   "source": [
    "SGDR_l2=SGDRegressor(loss='squared_loss', penalty='l2', alpha=0.0001, l1_ratio=0.15, fit_intercept=True, n_iter=5, shuffle=True, verbose=0, epsilon=0.1, random_state=None, learning_rate='invscaling', eta0=0.01, power_t=0.25, warm_start=False, average=False)"
   ]
  },
  {
   "cell_type": "code",
   "execution_count": 94,
   "metadata": {
    "collapsed": false
   },
   "outputs": [],
   "source": [
    "SGDR_l1=SGDRegressor(loss='squared_loss', penalty='l1', alpha=0.0001, l1_ratio=0.15, fit_intercept=True, n_iter=5, shuffle=True, verbose=0, epsilon=0.1, random_state=None, learning_rate='invscaling', eta0=0.01, power_t=0.25, warm_start=False, average=False)\n"
   ]
  },
  {
   "cell_type": "code",
   "execution_count": 95,
   "metadata": {
    "collapsed": false
   },
   "outputs": [],
   "source": [
    "SGDR_none=SGDRegressor(loss='squared_loss', penalty='none', alpha=0.0001, l1_ratio=0.15, fit_intercept=True, n_iter=5, shuffle=True, verbose=0, epsilon=0.1, random_state=None, learning_rate='invscaling', eta0=0.01, power_t=0.25, warm_start=False, average=False)\n"
   ]
  },
  {
   "cell_type": "code",
   "execution_count": 96,
   "metadata": {
    "collapsed": false
   },
   "outputs": [],
   "source": [
    "SGDR_elast=SGDRegressor(loss='squared_loss', penalty='elasticnet', alpha=0.0001, l1_ratio=0.15, fit_intercept=True, n_iter=5, shuffle=True, verbose=0, epsilon=0.1, random_state=None, learning_rate='invscaling', eta0=0.01, power_t=0.25, warm_start=False, average=False)"
   ]
  },
  {
   "cell_type": "markdown",
   "metadata": {},
   "source": [
    "Обучите все полученных объекты на обучающей выборке\n",
    "Подсчитайте метрику r2 score для всех объектов"
   ]
  },
  {
   "cell_type": "code",
   "execution_count": 97,
   "metadata": {
    "collapsed": false
   },
   "outputs": [
    {
     "name": "stdout",
     "output_type": "stream",
     "text": [
      "('R2 penalty=l2 :', 0.074453325068680409)\n"
     ]
    }
   ],
   "source": [
    "y_pred=SGDR_l2.fit(X_train, y_train).predict(X_test)\n",
    "print ('R2 penalty=l2 :',r2_score(y_test,y_pred))"
   ]
  },
  {
   "cell_type": "code",
   "execution_count": 98,
   "metadata": {
    "collapsed": false
   },
   "outputs": [
    {
     "name": "stdout",
     "output_type": "stream",
     "text": [
      "('R2 penalty=l1 :', 0.069982432998470623)\n"
     ]
    }
   ],
   "source": [
    "y_pred=SGDR_l1.fit(X_train, y_train).predict(X_test)\n",
    "print ('R2 penalty=l1 :',r2_score(y_test,y_pred))"
   ]
  },
  {
   "cell_type": "code",
   "execution_count": 99,
   "metadata": {
    "collapsed": false
   },
   "outputs": [
    {
     "name": "stdout",
     "output_type": "stream",
     "text": [
      "('R2 penalty=none :', 0.07553256306623779)\n"
     ]
    }
   ],
   "source": [
    "y_pred=SGDR_none.fit(X_train, y_train).predict(X_test)\n",
    "print ('R2 penalty=none :',r2_score(y_test,y_pred))"
   ]
  },
  {
   "cell_type": "code",
   "execution_count": 100,
   "metadata": {
    "collapsed": false
   },
   "outputs": [
    {
     "name": "stdout",
     "output_type": "stream",
     "text": [
      "('R2 penalty=elasticnet :', 0.075167542062519743)\n"
     ]
    }
   ],
   "source": [
    "y_pred=SGDR_elast.fit(X_train, y_train).predict(X_test)\n",
    "print ('R2 penalty=elasticnet :',r2_score(y_test,y_pred))"
   ]
  },
  {
   "cell_type": "markdown",
   "metadata": {},
   "source": [
    "При 'elasticnet самое большое значение R2"
   ]
  },
  {
   "cell_type": "markdown",
   "metadata": {},
   "source": [
    "- Создайте объекты с параметрами max_depth = 1,3, 10 [GradientBoostingRegressor](http://scikit-learn.org/stable/modules/generated/sklearn.ensemble.GradientBoostingRegressor.html#sklearn.ensemble.GradientBoostingRegressor) и для каждого объекта изменяйте количество n_estimators  от 100 до 1000 с шагом 100 (0.2)\n",
    "- Подсчитайте метрику r2 score для всех объектов (0.1)\n",
    "- Визуализируйте зависимость R2 oт n_estimators на графике (0.2)\n",
    "- Max (0.5)"
   ]
  },
  {
   "cell_type": "markdown",
   "metadata": {},
   "source": [
    "Создайте объекты с параметрами max_depth = 1,3, 10 GradientBoostingRegressor и для каждого объекта изменяйте количество n_estimators от 100 до 1000 с шагом 100"
   ]
  },
  {
   "cell_type": "code",
   "execution_count": 101,
   "metadata": {
    "collapsed": false
   },
   "outputs": [
    {
     "data": {
      "text/plain": [
       "GradientBoostingRegressor(alpha=0.9, init=None, learning_rate=0.1, loss='ls',\n",
       "             max_depth=1, max_features=None, max_leaf_nodes=None,\n",
       "             min_samples_leaf=1, min_samples_split=2,\n",
       "             min_weight_fraction_leaf=0.0,\n",
       "             n_estimators=array([100, 200, 300, 400, 500, 600, 700, 800, 900]),\n",
       "             presort='auto', random_state=None, subsample=1.0, verbose=0,\n",
       "             warm_start=False)"
      ]
     },
     "execution_count": 101,
     "metadata": {},
     "output_type": "execute_result"
    }
   ],
   "source": [
    "GradientBoostingRegressor(max_depth = 1, n_estimators= np.arange(100,1000,100))"
   ]
  },
  {
   "cell_type": "markdown",
   "metadata": {},
   "source": [
    "Подсчитайте метрику r2 score для всех объектов"
   ]
  },
  {
   "cell_type": "code",
   "execution_count": 115,
   "metadata": {
    "collapsed": true
   },
   "outputs": [],
   "source": [
    "def r2_depth(depth):\n",
    "    n_estimators= np.arange(100,1000,100)\n",
    "    r2_scores=[]\n",
    "    for i in n_estimators:\n",
    "        GB=GradientBoostingRegressor(max_depth = depth, n_estimators=i)\n",
    "        y_pred=GB.fit(X_train,y_train).predict(X_test)\n",
    "        print('for n_estimators=',i,'r2 =',r2_score(y_test,y_pred))\n",
    "        r2_scores.append(r2_score(y_test, y_pred)) \n",
    "    plt.plot(np.arange(100,1000,100), r2_scores)"
   ]
  },
  {
   "cell_type": "code",
   "execution_count": 116,
   "metadata": {
    "collapsed": false
   },
   "outputs": [
    {
     "name": "stdout",
     "output_type": "stream",
     "text": [
      "('for n_estimators=', 100, 'r2 =', 0.14263879355227571)\n",
      "('for n_estimators=', 200, 'r2 =', 0.14266243541507018)\n",
      "('for n_estimators=', 300, 'r2 =', 0.14266244728108946)\n",
      "('for n_estimators=', 400, 'r2 =', 0.1426624472876683)\n",
      "('for n_estimators=', 500, 'r2 =', 0.14266244728767152)\n",
      "('for n_estimators=', 600, 'r2 =', 0.14266244728767152)\n",
      "('for n_estimators=', 700, 'r2 =', 0.14266244728767152)\n",
      "('for n_estimators=', 800, 'r2 =', 0.14266244728767152)\n",
      "('for n_estimators=', 900, 'r2 =', 0.14266244728767152)\n"
     ]
    },
    {
     "data": {
      "image/png": "[encoded data removed]",
      "text/plain": [
       "<matplotlib.figure.Figure at 0x11a4a8cd0>"
      ]
     },
     "metadata": {},
     "output_type": "display_data"
    }
   ],
   "source": [
    "r2_depth(1)"
   ]
  },
  {
   "cell_type": "code",
   "execution_count": 118,
   "metadata": {
    "collapsed": false
   },
   "outputs": [
    {
     "data": {
      "text/plain": [
       "GradientBoostingRegressor(alpha=0.9, init=None, learning_rate=0.1, loss='ls',\n",
       "             max_depth=3, max_features=None, max_leaf_nodes=None,\n",
       "             min_samples_leaf=1, min_samples_split=2,\n",
       "             min_weight_fraction_leaf=0.0,\n",
       "             n_estimators=array([100, 200, 300, 400, 500, 600, 700, 800, 900]),\n",
       "             presort='auto', random_state=None, subsample=1.0, verbose=0,\n",
       "             warm_start=False)"
      ]
     },
     "execution_count": 118,
     "metadata": {},
     "output_type": "execute_result"
    }
   ],
   "source": [
    "GradientBoostingRegressor(max_depth = 3, n_estimators= np.arange(100,1000,100))"
   ]
  },
  {
   "cell_type": "code",
   "execution_count": 119,
   "metadata": {
    "collapsed": false
   },
   "outputs": [
    {
     "name": "stdout",
     "output_type": "stream",
     "text": [
      "('for n_estimators=', 100, 'r2 =', 0.14266165332592962)\n",
      "('for n_estimators=', 200, 'r2 =', 0.14266244726658484)\n",
      "('for n_estimators=', 300, 'r2 =', 0.14266244728767108)\n",
      "('for n_estimators=', 400, 'r2 =', 0.14266244728767163)\n",
      "('for n_estimators=', 500, 'r2 =', 0.14266244728767163)\n",
      "('for n_estimators=', 600, 'r2 =', 0.14266244728767163)\n",
      "('for n_estimators=', 700, 'r2 =', 0.14266244728767163)\n",
      "('for n_estimators=', 800, 'r2 =', 0.14266244728767163)\n",
      "('for n_estimators=', 900, 'r2 =', 0.14266244728767163)\n"
     ]
    },
    {
     "data": {
      "image/png": "[encoded data removed]",
      "text/plain": [
       "<matplotlib.figure.Figure at 0x119f7b790>"
      ]
     },
     "metadata": {},
     "output_type": "display_data"
    }
   ],
   "source": [
    "r2_depth(3)"
   ]
  },
  {
   "cell_type": "code",
   "execution_count": 122,
   "metadata": {
    "collapsed": false
   },
   "outputs": [
    {
     "data": {
      "text/plain": [
       "GradientBoostingRegressor(alpha=0.9, init=None, learning_rate=0.1, loss='ls',\n",
       "             max_depth=10, max_features=None, max_leaf_nodes=None,\n",
       "             min_samples_leaf=1, min_samples_split=2,\n",
       "             min_weight_fraction_leaf=0.0,\n",
       "             n_estimators=array([100, 200, 300, 400, 500, 600, 700, 800, 900]),\n",
       "             presort='auto', random_state=None, subsample=1.0, verbose=0,\n",
       "             warm_start=False)"
      ]
     },
     "execution_count": 122,
     "metadata": {},
     "output_type": "execute_result"
    }
   ],
   "source": [
    "GradientBoostingRegressor(max_depth = 10, n_estimators= np.arange(100,1000,100))"
   ]
  },
  {
   "cell_type": "code",
   "execution_count": 124,
   "metadata": {
    "collapsed": false
   },
   "outputs": [
    {
     "name": "stdout",
     "output_type": "stream",
     "text": [
      "('for n_estimators=', 100, 'r2 =', 0.14266165332592962)\n",
      "('for n_estimators=', 200, 'r2 =', 0.14266244726658484)\n",
      "('for n_estimators=', 300, 'r2 =', 0.14266244728767108)\n",
      "('for n_estimators=', 400, 'r2 =', 0.14266244728767163)\n",
      "('for n_estimators=', 500, 'r2 =', 0.14266244728767163)\n",
      "('for n_estimators=', 600, 'r2 =', 0.14266244728767163)\n",
      "('for n_estimators=', 700, 'r2 =', 0.14266244728767163)\n",
      "('for n_estimators=', 800, 'r2 =', 0.14266244728767163)\n",
      "('for n_estimators=', 900, 'r2 =', 0.14266244728767163)\n"
     ]
    },
    {
     "data": {
      "image/png": "[encoded data removed]",
      "text/plain": [
       "<matplotlib.figure.Figure at 0x11a763050>"
      ]
     },
     "metadata": {},
     "output_type": "display_data"
    }
   ],
   "source": [
    "r2_depth(10)"
   ]
  },
  {
   "cell_type": "markdown",
   "metadata": {},
   "source": [
    "- Используя все доступные регрессоры в библиотеке sklearn, найдите самый лучший регрессор. (2.5)"
   ]
  },
  {
   "cell_type": "code",
   "execution_count": 125,
   "metadata": {
    "collapsed": true
   },
   "outputs": [],
   "source": [
    "from sklearn.linear_model import Ridge, Lasso\n",
    "from sklearn.tree import DecisionTreeRegressor\n",
    "from sklearn.ensemble import RandomForestRegressor\n",
    "from sklearn.neighbors import KNeighborsRegressor"
   ]
  },
  {
   "cell_type": "code",
   "execution_count": 135,
   "metadata": {
    "collapsed": true
   },
   "outputs": [],
   "source": [
    "kneibors= KNeighborsRegressor()\n",
    "rand_forest = RandomForestRegressor(max_depth=2, random_state=1234)\n",
    "lin_regr = LinearRegression()\n",
    "dec_tree = DecisionTreeRegressor(max_depth=2)\n",
    "ridge = Ridge(alpha=0.2)\n",
    "lasso= Lasso(alpha=0.2)\n",
    "GRB=GradientBoostingRegressor(max_depth = 10, n_estimators=100)\n",
    "R_CV = RidgeCV(alphas=np.arange(1,100,1))\n",
    "SGDR=SGDRegressor( penalty='elasticnet')"
   ]
  },
  {
   "cell_type": "markdown",
   "metadata": {},
   "source": [
    "Будем оценивать качество регрессора с помощью метрики R2:"
   ]
  },
  {
   "cell_type": "code",
   "execution_count": 136,
   "metadata": {
    "collapsed": true
   },
   "outputs": [],
   "source": [
    "def test_reg(r):\n",
    "    r.fit(X_train, y_train)\n",
    "    y_pred=r.predict(X_test)\n",
    "    return ( r2_score(y_test,y_pred))"
   ]
  },
  {
   "cell_type": "code",
   "execution_count": 137,
   "metadata": {
    "collapsed": false
   },
   "outputs": [
    {
     "name": "stdout",
     "output_type": "stream",
     "text": [
      "('R2 KNeighbors', 0.062863477400197598)\n"
     ]
    }
   ],
   "source": [
    "print('R2 KNeighbors',test_reg(kneibors))"
   ]
  },
  {
   "cell_type": "code",
   "execution_count": 138,
   "metadata": {
    "collapsed": false
   },
   "outputs": [
    {
     "name": "stdout",
     "output_type": "stream",
     "text": [
      "('R2 RandomForest', 0.14422985735094662)\n"
     ]
    }
   ],
   "source": [
    "print('R2 RandomForest',test_reg(rand_forest))"
   ]
  },
  {
   "cell_type": "code",
   "execution_count": 139,
   "metadata": {
    "collapsed": false
   },
   "outputs": [
    {
     "name": "stdout",
     "output_type": "stream",
     "text": [
      "('R2 LinearR', 0.16326588714918044)\n"
     ]
    }
   ],
   "source": [
    "print('R2 LinearR',test_reg(lin_regr))"
   ]
  },
  {
   "cell_type": "code",
   "execution_count": 140,
   "metadata": {
    "collapsed": false
   },
   "outputs": [
    {
     "name": "stdout",
     "output_type": "stream",
     "text": [
      "('R2 DecisionTree', 0.12970125340278882)\n"
     ]
    }
   ],
   "source": [
    "print('R2 DecisionTree',test_reg(dec_tree))"
   ]
  },
  {
   "cell_type": "code",
   "execution_count": 141,
   "metadata": {
    "collapsed": false
   },
   "outputs": [
    {
     "name": "stdout",
     "output_type": "stream",
     "text": [
      "('R2 Ridge', 0.1631820044825194)\n"
     ]
    }
   ],
   "source": [
    "print('R2 Ridge',test_reg(ridge))"
   ]
  },
  {
   "cell_type": "code",
   "execution_count": 142,
   "metadata": {
    "collapsed": false
   },
   "outputs": [
    {
     "name": "stdout",
     "output_type": "stream",
     "text": [
      "('R2 Lasso', 0.14776523609269321)\n"
     ]
    }
   ],
   "source": [
    "print('R2 Lasso',test_reg(lasso))"
   ]
  },
  {
   "cell_type": "code",
   "execution_count": 143,
   "metadata": {
    "collapsed": false
   },
   "outputs": [
    {
     "name": "stdout",
     "output_type": "stream",
     "text": [
      "('R2 GradientBoosting', 0.14266165332592962)\n"
     ]
    }
   ],
   "source": [
    "print('R2 GradientBoosting',test_reg(GRB))"
   ]
  },
  {
   "cell_type": "code",
   "execution_count": 144,
   "metadata": {
    "collapsed": false
   },
   "outputs": [
    {
     "name": "stdout",
     "output_type": "stream",
     "text": [
      "('R2 RidgeCV', 0.16073735687078206)\n"
     ]
    }
   ],
   "source": [
    "print('R2 RidgeCV',test_reg(R_CV))"
   ]
  },
  {
   "cell_type": "code",
   "execution_count": 145,
   "metadata": {
    "collapsed": false
   },
   "outputs": [
    {
     "name": "stdout",
     "output_type": "stream",
     "text": [
      "('R2 SGDR', 0.075220632394996434)\n"
     ]
    }
   ],
   "source": [
    "print('R2 SGDR',test_reg(SGDR))"
   ]
  },
  {
   "cell_type": "markdown",
   "metadata": {},
   "source": [
    "### Классификация (Max 4)\n",
    "- В статье описано использование Random Forest для предсказания важности факторов, влияющих на потребление алкоголя. Повторите эксперимент с использование объекта [RandomForest](http://scikit-learn.org/stable/modules/generated/sklearn.ensemble.RandomForestClassifier.html#sklearn.ensemble.RandomForestClassifier) и найдите наилучшие параметры. Укажите accuracy для наилучших параметров (0.5)"
   ]
  },
  {
   "cell_type": "code",
   "execution_count": 222,
   "metadata": {
    "collapsed": true
   },
   "outputs": [],
   "source": [
    "from sklearn.ensemble import RandomForestClassifier, GradientBoostingClassifier,AdaBoostClassifier\n",
    "from sklearn.metrics import accuracy_score\n",
    "from sklearn.cross_validation import StratifiedShuffleSplit\n",
    "from sklearn.grid_search import GridSearchCV\n",
    "from sklearn.preprocessing import Binarizer"
   ]
  },
  {
   "cell_type": "code",
   "execution_count": 223,
   "metadata": {
    "collapsed": false
   },
   "outputs": [
    {
     "data": {
      "text/html": [
       "<div>\n",
       "<table border=\"1\" class=\"dataframe\">\n",
       "  <thead>\n",
       "    <tr style=\"text-align: right;\">\n",
       "      <th></th>\n",
       "      <th>G3</th>\n",
       "      <th>age</th>\n",
       "      <th>Medu</th>\n",
       "      <th>Fedu</th>\n",
       "      <th>traveltime</th>\n",
       "      <th>studytime</th>\n",
       "      <th>failures</th>\n",
       "      <th>famrel</th>\n",
       "      <th>freetime</th>\n",
       "      <th>goout</th>\n",
       "      <th>...</th>\n",
       "      <th>activities_no</th>\n",
       "      <th>activities_yes</th>\n",
       "      <th>nursery_no</th>\n",
       "      <th>nursery_yes</th>\n",
       "      <th>higher_no</th>\n",
       "      <th>higher_yes</th>\n",
       "      <th>internet_no</th>\n",
       "      <th>internet_yes</th>\n",
       "      <th>romantic_no</th>\n",
       "      <th>romantic_yes</th>\n",
       "    </tr>\n",
       "  </thead>\n",
       "  <tbody>\n",
       "    <tr>\n",
       "      <th>0</th>\n",
       "      <td>6</td>\n",
       "      <td>18</td>\n",
       "      <td>4</td>\n",
       "      <td>4</td>\n",
       "      <td>2</td>\n",
       "      <td>2</td>\n",
       "      <td>0</td>\n",
       "      <td>4</td>\n",
       "      <td>3</td>\n",
       "      <td>4</td>\n",
       "      <td>...</td>\n",
       "      <td>1.0</td>\n",
       "      <td>0.0</td>\n",
       "      <td>0.0</td>\n",
       "      <td>1.0</td>\n",
       "      <td>0.0</td>\n",
       "      <td>1.0</td>\n",
       "      <td>1.0</td>\n",
       "      <td>0.0</td>\n",
       "      <td>1.0</td>\n",
       "      <td>0.0</td>\n",
       "    </tr>\n",
       "    <tr>\n",
       "      <th>1</th>\n",
       "      <td>6</td>\n",
       "      <td>17</td>\n",
       "      <td>1</td>\n",
       "      <td>1</td>\n",
       "      <td>1</td>\n",
       "      <td>2</td>\n",
       "      <td>0</td>\n",
       "      <td>5</td>\n",
       "      <td>3</td>\n",
       "      <td>3</td>\n",
       "      <td>...</td>\n",
       "      <td>1.0</td>\n",
       "      <td>0.0</td>\n",
       "      <td>1.0</td>\n",
       "      <td>0.0</td>\n",
       "      <td>0.0</td>\n",
       "      <td>1.0</td>\n",
       "      <td>0.0</td>\n",
       "      <td>1.0</td>\n",
       "      <td>1.0</td>\n",
       "      <td>0.0</td>\n",
       "    </tr>\n",
       "    <tr>\n",
       "      <th>2</th>\n",
       "      <td>10</td>\n",
       "      <td>15</td>\n",
       "      <td>1</td>\n",
       "      <td>1</td>\n",
       "      <td>1</td>\n",
       "      <td>2</td>\n",
       "      <td>3</td>\n",
       "      <td>4</td>\n",
       "      <td>3</td>\n",
       "      <td>2</td>\n",
       "      <td>...</td>\n",
       "      <td>1.0</td>\n",
       "      <td>0.0</td>\n",
       "      <td>0.0</td>\n",
       "      <td>1.0</td>\n",
       "      <td>0.0</td>\n",
       "      <td>1.0</td>\n",
       "      <td>0.0</td>\n",
       "      <td>1.0</td>\n",
       "      <td>1.0</td>\n",
       "      <td>0.0</td>\n",
       "    </tr>\n",
       "    <tr>\n",
       "      <th>3</th>\n",
       "      <td>15</td>\n",
       "      <td>15</td>\n",
       "      <td>4</td>\n",
       "      <td>2</td>\n",
       "      <td>1</td>\n",
       "      <td>3</td>\n",
       "      <td>0</td>\n",
       "      <td>3</td>\n",
       "      <td>2</td>\n",
       "      <td>2</td>\n",
       "      <td>...</td>\n",
       "      <td>0.0</td>\n",
       "      <td>1.0</td>\n",
       "      <td>0.0</td>\n",
       "      <td>1.0</td>\n",
       "      <td>0.0</td>\n",
       "      <td>1.0</td>\n",
       "      <td>0.0</td>\n",
       "      <td>1.0</td>\n",
       "      <td>0.0</td>\n",
       "      <td>1.0</td>\n",
       "    </tr>\n",
       "    <tr>\n",
       "      <th>4</th>\n",
       "      <td>10</td>\n",
       "      <td>16</td>\n",
       "      <td>3</td>\n",
       "      <td>3</td>\n",
       "      <td>1</td>\n",
       "      <td>2</td>\n",
       "      <td>0</td>\n",
       "      <td>4</td>\n",
       "      <td>3</td>\n",
       "      <td>2</td>\n",
       "      <td>...</td>\n",
       "      <td>1.0</td>\n",
       "      <td>0.0</td>\n",
       "      <td>0.0</td>\n",
       "      <td>1.0</td>\n",
       "      <td>0.0</td>\n",
       "      <td>1.0</td>\n",
       "      <td>1.0</td>\n",
       "      <td>0.0</td>\n",
       "      <td>1.0</td>\n",
       "      <td>0.0</td>\n",
       "    </tr>\n",
       "  </tbody>\n",
       "</table>\n",
       "<p>5 rows × 57 columns</p>\n",
       "</div>"
      ],
      "text/plain": [
       "   G3  age  Medu  Fedu  traveltime  studytime  failures  famrel  freetime  \\\n",
       "0   6   18     4     4           2          2         0       4         3   \n",
       "1   6   17     1     1           1          2         0       5         3   \n",
       "2  10   15     1     1           1          2         3       4         3   \n",
       "3  15   15     4     2           1          3         0       3         2   \n",
       "4  10   16     3     3           1          2         0       4         3   \n",
       "\n",
       "   goout      ...       activities_no  activities_yes  nursery_no  \\\n",
       "0      4      ...                 1.0             0.0         0.0   \n",
       "1      3      ...                 1.0             0.0         1.0   \n",
       "2      2      ...                 1.0             0.0         0.0   \n",
       "3      2      ...                 0.0             1.0         0.0   \n",
       "4      2      ...                 1.0             0.0         0.0   \n",
       "\n",
       "   nursery_yes  higher_no  higher_yes  internet_no  internet_yes  romantic_no  \\\n",
       "0          1.0        0.0         1.0          1.0           0.0          1.0   \n",
       "1          0.0        0.0         1.0          0.0           1.0          1.0   \n",
       "2          1.0        0.0         1.0          0.0           1.0          1.0   \n",
       "3          1.0        0.0         1.0          0.0           1.0          0.0   \n",
       "4          1.0        0.0         1.0          1.0           0.0          1.0   \n",
       "\n",
       "   romantic_yes  \n",
       "0           0.0  \n",
       "1           0.0  \n",
       "2           0.0  \n",
       "3           1.0  \n",
       "4           0.0  \n",
       "\n",
       "[5 rows x 57 columns]"
      ]
     },
     "execution_count": 223,
     "metadata": {},
     "output_type": "execute_result"
    }
   ],
   "source": [
    "data = pd.concat([d_mat.G3, X_new], axis=1)\n",
    "data.head()"
   ]
  },
  {
   "cell_type": "markdown",
   "metadata": {},
   "source": [
    "Аналогично статье:"
   ]
  },
  {
   "cell_type": "code",
   "execution_count": 224,
   "metadata": {
    "collapsed": true
   },
   "outputs": [],
   "source": [
    "data['Alco']=(data['Dalc']*5/7)+(data['Walc']*2/7)"
   ]
  },
  {
   "cell_type": "code",
   "execution_count": 225,
   "metadata": {
    "collapsed": false
   },
   "outputs": [
    {
     "data": {
      "text/plain": [
       "0    1.000000\n",
       "1    1.000000\n",
       "2    2.285714\n",
       "3    1.000000\n",
       "4    1.285714\n",
       "Name: Alco, dtype: float64"
      ]
     },
     "execution_count": 225,
     "metadata": {},
     "output_type": "execute_result"
    }
   ],
   "source": [
    "data['Alco'].head()"
   ]
  },
  {
   "cell_type": "code",
   "execution_count": 231,
   "metadata": {
    "collapsed": false
   },
   "outputs": [],
   "source": [
    "from sklearn.preprocessing import Binarizer\n",
    "data['Alco']= Binarizer(threshold = 2.9999).fit_transform(data['Alco'].reshape(-1,1))"
   ]
  },
  {
   "cell_type": "code",
   "execution_count": 232,
   "metadata": {
    "collapsed": false
   },
   "outputs": [],
   "source": [
    "X3 = data.drop(['Alco','Dalc','Walc'],axis = 1)\n",
    "y3 = data['Alco']\n",
    "X_train, X_test, y_train, y_test = train_test_split(X3, y3, test_size=0.2, random_state=12)"
   ]
  },
  {
   "cell_type": "code",
   "execution_count": 233,
   "metadata": {
    "collapsed": false
   },
   "outputs": [
    {
     "data": {
      "text/plain": [
       "RandomForestClassifier(bootstrap=True, class_weight=None, criterion='gini',\n",
       "            max_depth=None, max_features='auto', max_leaf_nodes=None,\n",
       "            min_samples_leaf=1, min_samples_split=2,\n",
       "            min_weight_fraction_leaf=0.0, n_estimators=10, n_jobs=1,\n",
       "            oob_score=False, random_state=None, verbose=0,\n",
       "            warm_start=False)"
      ]
     },
     "execution_count": 233,
     "metadata": {},
     "output_type": "execute_result"
    }
   ],
   "source": [
    "RandomForestClassifier(n_estimators=10, max_depth=None)"
   ]
  },
  {
   "cell_type": "code",
   "execution_count": 251,
   "metadata": {
    "collapsed": true
   },
   "outputs": [],
   "source": [
    "def estim(classif,n_est):\n",
    "    accuracy = []\n",
    "    for i in (n_est):\n",
    "        RFC=classif(n_estimators=i, max_depth=10)\n",
    "        y_pred= RFC.fit(X_train, y_train).predict(X_test)\n",
    "        accuracy.append(accuracy_score(y_test, y_pred))\n",
    "    print('Optimal number of estimators',accuracy.index(np.max(accuracy)),'Accuracy=',np.max(accuracy))"
   ]
  },
  {
   "cell_type": "code",
   "execution_count": 252,
   "metadata": {
    "collapsed": false
   },
   "outputs": [
    {
     "name": "stdout",
     "output_type": "stream",
     "text": [
      "('Optimal number of estimators', 22, 'Accuracy=', 0.92405063291139244)\n"
     ]
    }
   ],
   "source": [
    "estim(RandomForestClassifier,np.arange(1,100,1))"
   ]
  },
  {
   "cell_type": "code",
   "execution_count": 253,
   "metadata": {
    "collapsed": true
   },
   "outputs": [],
   "source": [
    "def dep(classif, m_dep):\n",
    "    accuracy = []\n",
    "    for i in (m_dep):\n",
    "        RFC=classif(n_estimators=10, max_depth=i)\n",
    "        y_pred= RFC.fit(X_train, y_train).predict(X_test)\n",
    "        accuracy.append(accuracy_score(y_test, y_pred))\n",
    "    print('Optimal depth',accuracy.index(np.max(accuracy)),'Accuracy=',np.max(accuracy))"
   ]
  },
  {
   "cell_type": "code",
   "execution_count": 254,
   "metadata": {
    "collapsed": false
   },
   "outputs": [
    {
     "name": "stdout",
     "output_type": "stream",
     "text": [
      "('Optimal depth', 33, 'Accuracy=', 0.92405063291139244)\n"
     ]
    }
   ],
   "source": [
    "dep(RandomForestClassifier, np.arange(1,100,1))"
   ]
  },
  {
   "cell_type": "markdown",
   "metadata": {},
   "source": [
    "Далее будем искать оптимальные параметры с помощью GridSearchCV"
   ]
  },
  {
   "cell_type": "code",
   "execution_count": 255,
   "metadata": {
    "collapsed": true
   },
   "outputs": [],
   "source": [
    "def gridS(n_est,max_dep):\n",
    "    param_grid=dict(n_estimators=n_est,max_depth=max_dep)\n",
    "    cv=StratifiedShuffleSplit(y3,n_iter=5,test_size=0.4,random_state=14)\n",
    "    grid=GridSearchCV(RandomForestClassifier(),param_grid=param_grid,cv=cv)\n",
    "    grid.fit(X3,y3)\n",
    "    print(grid.best_params_,grid.best_score_)"
   ]
  },
  {
   "cell_type": "code",
   "execution_count": 256,
   "metadata": {
    "collapsed": false
   },
   "outputs": [
    {
     "name": "stdout",
     "output_type": "stream",
     "text": [
      "({'n_estimators': 35, 'max_depth': 25}, 0.89620253164556962)\n"
     ]
    }
   ],
   "source": [
    "gridS(np.arange(10,100,5),np.arange(10,100,5))"
   ]
  },
  {
   "cell_type": "markdown",
   "metadata": {},
   "source": [
    "- Обучите объект [GradientBoostingClassifier](http://scikit-learn.org/stable/modules/generated/sklearn.ensemble.GradientBoostingClassifier.html#sklearn.ensemble.GradientBoostingClassifier)  и найдите для него наилучшие параметры. Укажите accuracy для наилучших параметров (0.5)"
   ]
  },
  {
   "cell_type": "code",
   "execution_count": 257,
   "metadata": {
    "collapsed": false
   },
   "outputs": [
    {
     "data": {
      "text/plain": [
       "GradientBoostingClassifier(init=None, learning_rate=0.1, loss='deviance',\n",
       "              max_depth=5, max_features=None, max_leaf_nodes=None,\n",
       "              min_samples_leaf=1, min_samples_split=2,\n",
       "              min_weight_fraction_leaf=0.0, n_estimators=10,\n",
       "              presort='auto', random_state=None, subsample=1.0, verbose=0,\n",
       "              warm_start=False)"
      ]
     },
     "execution_count": 257,
     "metadata": {},
     "output_type": "execute_result"
    }
   ],
   "source": [
    "GradientBoostingClassifier(n_estimators=10, max_depth=5).fit(X_train,y_train)"
   ]
  },
  {
   "cell_type": "code",
   "execution_count": 258,
   "metadata": {
    "collapsed": true
   },
   "outputs": [],
   "source": [
    "def gridS1(n_est,max_dep):\n",
    "    param_grid=dict(n_estimators=n_est,max_depth=max_dep)\n",
    "    cv=StratifiedShuffleSplit(y3,n_iter=5,test_size=0.4,random_state=1234)\n",
    "    grid=GridSearchCV(GradientBoostingClassifier(),param_grid=param_grid,cv=cv)\n",
    "    grid.fit(X3,y3)\n",
    "    print(grid.best_params_,grid.best_score_)"
   ]
  },
  {
   "cell_type": "code",
   "execution_count": 259,
   "metadata": {
    "collapsed": false
   },
   "outputs": [
    {
     "name": "stdout",
     "output_type": "stream",
     "text": [
      "({'n_estimators': 60, 'max_depth': 65}, 0.89620253164556962)\n"
     ]
    }
   ],
   "source": [
    "gridS1(np.arange(10,100,5),np.arange(10,100,5))"
   ]
  },
  {
   "cell_type": "markdown",
   "metadata": {},
   "source": [
    "- Обучите объект [AdaBoostClassifier](http://scikit-learn.org/stable/modules/generated/sklearn.ensemble.AdaBoostClassifier.html)  и найдите для него наилучшие параметры. Укажите accuracy для наилучших параметров (0.5)"
   ]
  },
  {
   "cell_type": "markdown",
   "metadata": {},
   "source": [
    "Так как GridSearchCV с таким объемом данных работате очень долго, будем оптимизировать как в начале ( по каждому параметру отдельно)"
   ]
  },
  {
   "cell_type": "code",
   "execution_count": 263,
   "metadata": {
    "collapsed": false
   },
   "outputs": [
    {
     "data": {
      "text/plain": [
       "AdaBoostClassifier(algorithm='SAMME.R', base_estimator=None,\n",
       "          learning_rate=1.0, n_estimators=50, random_state=None)"
      ]
     },
     "execution_count": 263,
     "metadata": {},
     "output_type": "execute_result"
    }
   ],
   "source": [
    "ABC=AdaBoostClassifier(base_estimator=None, n_estimators=50, learning_rate=1.0)\n",
    "ABC.fit(X_train, y_train)"
   ]
  },
  {
   "cell_type": "code",
   "execution_count": 264,
   "metadata": {
    "collapsed": false
   },
   "outputs": [],
   "source": [
    "def estimators(classif,n_est):\n",
    "    accuracy = []\n",
    "    for i in (n_est):\n",
    "        RFC=classif(n_estimators=i, max_depth=20)\n",
    "        y_pred= RFC.fit(X_train, y_train).predict(X_test)\n",
    "        accuracy.append(accuracy_score(y_test, y_pred))\n",
    "    print('Optimal number of estimators',accuracy.index(np.max(accuracy)),'Accuracy=',np.max(accuracy))"
   ]
  },
  {
   "cell_type": "code",
   "execution_count": 265,
   "metadata": {
    "collapsed": false
   },
   "outputs": [
    {
     "name": "stdout",
     "output_type": "stream",
     "text": [
      "('Optimal number of estimators', 4, 'Accuracy=', 0.87341772151898733)\n"
     ]
    }
   ],
   "source": [
    "estimators(GradientBoostingClassifier,np.arange(10,100,1))"
   ]
  },
  {
   "cell_type": "code",
   "execution_count": 266,
   "metadata": {
    "collapsed": false
   },
   "outputs": [],
   "source": [
    "def depth(classif, m_dep):\n",
    "    accuracy = []\n",
    "    for i in (m_dep):\n",
    "        RFC=classif(n_estimators=6, max_depth=i)\n",
    "        y_pred= RFC.fit(X_train, y_train).predict(X_test)\n",
    "        accuracy.append(accuracy_score(y_test, y_pred))\n",
    "    print('Optimal depth',accuracy.index(np.max(accuracy)),'Accuracy=',np.max(accuracy))"
   ]
  },
  {
   "cell_type": "code",
   "execution_count": 267,
   "metadata": {
    "collapsed": false
   },
   "outputs": [
    {
     "name": "stdout",
     "output_type": "stream",
     "text": [
      "('\\xd0\\x9eptimal depth', 2, 'Accuracy=', 0.91139240506329111)\n"
     ]
    }
   ],
   "source": [
    "depth(GradientBoostingClassifier, np.arange(1,100,1))"
   ]
  },
  {
   "cell_type": "code",
   "execution_count": 270,
   "metadata": {
    "collapsed": true
   },
   "outputs": [],
   "source": [
    "def learning_rate(classif,learn_r):\n",
    "    accuracy = []\n",
    "    for i in (learn_r):\n",
    "        RFC=classif(n_estimators=14,learning_rate=i)\n",
    "        y_pred= RFC.fit(X_train, y_train).predict(X_test)\n",
    "        accuracy.append(accuracy_score(y_test, y_pred))\n",
    "    print('Optimal learninig_rate:',accuracy.index(np.max(accuracy)),'Accuracy=',np.max(accuracy))"
   ]
  },
  {
   "cell_type": "code",
   "execution_count": 271,
   "metadata": {
    "collapsed": false
   },
   "outputs": [
    {
     "name": "stdout",
     "output_type": "stream",
     "text": [
      "('Optimal learninig_rate:', 0, 'Accuracy=', 0.91139240506329111)\n"
     ]
    }
   ],
   "source": [
    "learning_rate(AdaBoostClassifier,np.arange(1,100,1))"
   ]
  },
  {
   "cell_type": "markdown",
   "metadata": {},
   "source": [
    "- Найдите наилучший классификатор. Укажите accuracy для наилучших параметров (2.5)"
   ]
  },
  {
   "cell_type": "code",
   "execution_count": 281,
   "metadata": {
    "collapsed": true
   },
   "outputs": [],
   "source": [
    "def accuracy_on_n_est(classif,n_est):\n",
    "    accuracy = []\n",
    "    for i in (n_est):\n",
    "        RFC=classif(n_estimators=i)\n",
    "        y_pred= RFC.fit(X_train, y_train).predict(X_test)\n",
    "        accuracy.append(accuracy_score(y_test, y_pred))\n",
    "    plt.plot(np.arange(1,100,1),accuracy,label=classif)\n",
    "    print(classif,'Optimal number of estimators',accuracy.index(np.max(accuracy)),'Accuracy=',np.max(accuracy))"
   ]
  },
  {
   "cell_type": "code",
   "execution_count": 282,
   "metadata": {
    "collapsed": false
   },
   "outputs": [
    {
     "name": "stdout",
     "output_type": "stream",
     "text": [
      "(<class 'sklearn.ensemble.forest.RandomForestClassifier'>, 'Optimal number of estimators', 14, 'Accuracy=', 0.92405063291139244)\n",
      "(<class 'sklearn.ensemble.gradient_boosting.GradientBoostingClassifier'>, 'Optimal number of estimators', 4, 'Accuracy=', 0.91139240506329111)\n",
      "(<class 'sklearn.ensemble.weight_boosting.AdaBoostClassifier'>, 'Optimal number of estimators', 21, 'Accuracy=', 0.92405063291139244)\n"
     ]
    },
    {
     "data": {
      "text/plain": [
       "<matplotlib.legend.Legend at 0x11abd5bd0>"
      ]
     },
     "execution_count": 282,
     "metadata": {},
     "output_type": "execute_result"
    },
    {
     "data": {
      "image/png": "[encoded data removed]",
      "text/plain": [
       "<matplotlib.figure.Figure at 0x11a848850>"
      ]
     },
     "metadata": {},
     "output_type": "display_data"
    }
   ],
   "source": [
    "accuracy_on_n_est(RandomForestClassifier,np.arange(1,100,1))\n",
    "accuracy_on_n_est(GradientBoostingClassifier,np.arange(1,100,1))\n",
    "accuracy_on_n_est(AdaBoostClassifier,np.arange(1,100,1))\n",
    "plt.legend(loc = 'lower right') "
   ]
  },
  {
   "cell_type": "code",
   "execution_count": 283,
   "metadata": {
    "collapsed": true
   },
   "outputs": [],
   "source": [
    "def accuracy_on_max_dep(classif, m_dep,opt_estim):\n",
    "    accuracy = []\n",
    "    for i in (m_dep):\n",
    "        RFC=classif(n_estimators=opt_estim, max_depth=i)\n",
    "        y_pred= RFC.fit(X_train, y_train).predict(X_test)\n",
    "        accuracy.append(accuracy_score(y_test, y_pred))\n",
    "    plt.plot(np.arange(1,100,1),accuracy,label=classif)\n",
    "    print(classif, 'Optimal max depth',accuracy.index(np.max(accuracy)),'Accuracy=',np.max(accuracy))"
   ]
  },
  {
   "cell_type": "code",
   "execution_count": 285,
   "metadata": {
    "collapsed": false
   },
   "outputs": [
    {
     "name": "stdout",
     "output_type": "stream",
     "text": [
      "(<class 'sklearn.ensemble.forest.RandomForestClassifier'>, 'Optimal max depth', 4, 'Accuracy=', 0.91139240506329111)\n",
      "(<class 'sklearn.ensemble.gradient_boosting.GradientBoostingClassifier'>, 'Optimal max depth', 0, 'Accuracy=', 0.89873417721518989)\n"
     ]
    },
    {
     "data": {
      "text/plain": [
       "<matplotlib.legend.Legend at 0x11a8d6190>"
      ]
     },
     "execution_count": 285,
     "metadata": {},
     "output_type": "execute_result"
    },
    {
     "data": {
      "image/png": "[encoded data removed]",
      "text/plain": [
       "<matplotlib.figure.Figure at 0x11a763550>"
      ]
     },
     "metadata": {},
     "output_type": "display_data"
    }
   ],
   "source": [
    "accuracy_on_max_dep(RandomForestClassifier,np.arange(1,100,1),5)\n",
    "accuracy_on_max_dep(GradientBoostingClassifier,np.arange(1,100,1),4) \n",
    "plt.legend(loc = 'lower right')"
   ]
  },
  {
   "cell_type": "code",
   "execution_count": 286,
   "metadata": {
    "collapsed": true
   },
   "outputs": [],
   "source": [
    "def accuracy_on_learn_rate(classif,learn_r,n_est):\n",
    "    accuracy = []\n",
    "    for i in (learn_r):\n",
    "        RFC=classif(n_estimators=n_est,learning_rate=i)\n",
    "        y_pred= RFC.fit(X_train, y_train).predict(X_test)\n",
    "        accuracy.append(accuracy_score(y_test, y_pred))\n",
    "    plt.plot(np.arange(1,100,1),accuracy,label=classif)\n",
    "    print('Оптимальное learn_rate:',accuracy.index(np.max(accuracy)),'Accuracy=',np.max(accuracy)) "
   ]
  },
  {
   "cell_type": "code",
   "execution_count": 288,
   "metadata": {
    "collapsed": false
   },
   "outputs": [
    {
     "name": "stdout",
     "output_type": "stream",
     "text": [
      "('\\xd0\\x9e\\xd0\\xbf\\xd1\\x82\\xd0\\xb8\\xd0\\xbc\\xd0\\xb0\\xd0\\xbb\\xd1\\x8c\\xd0\\xbd\\xd0\\xbe\\xd0\\xb5 learn_rate:', 0, 'Accuracy=', 0.82278481012658233)\n",
      "('\\xd0\\x9e\\xd0\\xbf\\xd1\\x82\\xd0\\xb8\\xd0\\xbc\\xd0\\xb0\\xd0\\xbb\\xd1\\x8c\\xd0\\xbd\\xd0\\xbe\\xd0\\xb5 learn_rate:', 0, 'Accuracy=', 0.91139240506329111)\n"
     ]
    },
    {
     "data": {
      "text/plain": [
       "<matplotlib.legend.Legend at 0x11b9fee90>"
      ]
     },
     "execution_count": 288,
     "metadata": {},
     "output_type": "execute_result"
    },
    {
     "data": {
      "image/png": "[encoded data removed]",
      "text/plain": [
       "<matplotlib.figure.Figure at 0x11a858750>"
      ]
     },
     "metadata": {},
     "output_type": "display_data"
    }
   ],
   "source": [
    "accuracy_on_learn_rate(GradientBoostingClassifier,np.arange(1,100,1),5)  \n",
    "accuracy_on_learn_rate(AdaBoostClassifier,np.arange(1,100,1),21)\n",
    "plt.legend(loc = 'lower right')  "
   ]
  },
  {
   "cell_type": "markdown",
   "metadata": {},
   "source": [
    "По значениям Accuracy для различных переменных можно сказать, что хорошими являются классификаторы RandomForest и AdaBoost"
   ]
  },
  {
   "cell_type": "code",
   "execution_count": 221,
   "metadata": {
    "collapsed": false
   },
   "outputs": [
    {
     "name": "stdout",
     "output_type": "stream",
     "text": [
      "Collecting scipy\n",
      "  Downloading scipy-0.18.1-cp27-cp27m-macosx_10_6_intel.macosx_10_9_intel.macosx_10_9_x86_64.macosx_10_10_intel.macosx_10_10_x86_64.whl (21.8MB)\n",
      "\u001b[K    100% |████████████████████████████████| 21.8MB 30kB/s \n",
      "\u001b[?25hCollecting numpy>=1.7.1 (from scipy)\n",
      "  Downloading numpy-1.11.2-cp27-cp27m-macosx_10_6_intel.macosx_10_9_intel.macosx_10_9_x86_64.macosx_10_10_intel.macosx_10_10_x86_64.whl (3.9MB)\n",
      "\u001b[K    100% |████████████████████████████████| 3.9MB 146kB/s \n",
      "\u001b[?25hInstalling collected packages: numpy, scipy\n",
      "  Found existing installation: numpy 1.10.4\n",
      "\u001b[33m    DEPRECATION: Uninstalling a distutils installed project (numpy) has been deprecated and will be removed in a future version. This is due to the fact that uninstalling a distutils project will only partially uninstall the project.\u001b[0m\n",
      "    Uninstalling numpy-1.10.4:\n",
      "      Successfully uninstalled numpy-1.10.4\n",
      "  Found existing installation: scipy 0.17.0\n",
      "\u001b[33m    DEPRECATION: Uninstalling a distutils installed project (scipy) has been deprecated and will be removed in a future version. This is due to the fact that uninstalling a distutils project will only partially uninstall the project.\u001b[0m\n",
      "    Uninstalling scipy-0.17.0:\n",
      "      Successfully uninstalled scipy-0.17.0\n",
      "Successfully installed numpy-1.11.2 scipy-0.18.1\n",
      "\u001b[33mYou are using pip version 8.1.1, however version 8.1.2 is available.\n",
      "You should consider upgrading via the 'pip install --upgrade pip' command.\u001b[0m\n"
     ]
    }
   ],
   "source": [
    "!pip install -U scipy"
   ]
  },
  {
   "cell_type": "markdown",
   "metadata": {},
   "source": [
    "# Замечания\n",
    "\n",
    "- В работе следует использовать библиотеку scikit-learn версии 0.18 и scipy версии 0.18.1"
   ]
  }
 ],
 "metadata": {
  "kernelspec": {
   "display_name": "Python 2",
   "language": "python",
   "name": "python2"
  },
  "language_info": {
   "codemirror_mode": {
    "name": "ipython",
    "version": 2
   },
   "file_extension": ".py",
   "mimetype": "text/x-python",
   "name": "python",
   "nbconvert_exporter": "python",
   "pygments_lexer": "ipython2",
   "version": "2.7.11"
  }
 },
 "nbformat": 4,
 "nbformat_minor": 0
}
